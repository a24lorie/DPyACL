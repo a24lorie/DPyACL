{
 "cells": [
  {
   "cell_type": "code",
   "execution_count": 2,
   "metadata": {},
   "outputs": [
    {
     "data": {
      "text/plain": "<Client: 'tcp://192.168.2.100:8786' processes=3 threads=6, memory=60.00 GB>",
      "text/html": "<table style=\"border: 2px solid white;\">\n<tr>\n<td style=\"vertical-align: top; border: 0px solid white\">\n<h3 style=\"text-align: left;\">Client</h3>\n<ul style=\"text-align: left; list-style: none; margin: 0; padding: 0;\">\n  <li><b>Scheduler: </b>tcp://192.168.2.100:8786</li>\n  <li><b>Dashboard: </b><a href='http://192.168.2.100:8787/status' target='_blank'>http://192.168.2.100:8787/status</a></li>\n</ul>\n</td>\n<td style=\"vertical-align: top; border: 0px solid white\">\n<h3 style=\"text-align: left;\">Cluster</h3>\n<ul style=\"text-align: left; list-style:none; margin: 0; padding: 0;\">\n  <li><b>Workers: </b>3</li>\n  <li><b>Cores: </b>6</li>\n  <li><b>Memory: </b>60.00 GB</li>\n</ul>\n</td>\n</tr>\n</table>"
     },
     "execution_count": 2,
     "metadata": {},
     "output_type": "execute_result"
    }
   ],
   "source": [
    "from dask.distributed import Client\n",
    "\n",
    "client = Client(\"tcp://192.168.2.100:8786\")\n",
    "client"
   ]
  },
  {
   "cell_type": "code",
   "execution_count": 3,
   "metadata": {
    "pycharm": {
     "name": "#%%\n"
    }
   },
   "outputs": [],
   "source": [
    "import dask.array as da\n",
    "\n",
    "from sklearn.datasets import  make_classification\n",
    "\n",
    "from dpyacl.core.misc import split\n"
   ]
  },
  {
   "cell_type": "code",
   "execution_count": 14,
   "metadata": {
    "pycharm": {
     "name": "#%%\n"
    }
   },
   "outputs": [
    {
     "data": {
      "text/plain": "dask.array<array, shape=(100000, 1000), dtype=float64, chunksize=(2000, 1000), chunktype=numpy.ndarray>",
      "text/html": "<table>\n<tr>\n<td>\n<table>\n  <thead>\n    <tr><td> </td><th> Array </th><th> Chunk </th></tr>\n  </thead>\n  <tbody>\n    <tr><th> Bytes </th><td> 800.00 MB </td> <td> 16.00 MB </td></tr>\n    <tr><th> Shape </th><td> (100000, 1000) </td> <td> (2000, 1000) </td></tr>\n    <tr><th> Count </th><td> 51 Tasks </td><td> 50 Chunks </td></tr>\n    <tr><th> Type </th><td> float64 </td><td> numpy.ndarray </td></tr>\n  </tbody>\n</table>\n</td>\n<td>\n<svg width=\"75\" height=\"170\" style=\"stroke:rgb(0,0,0);stroke-width:1\" >\n\n  <!-- Horizontal lines -->\n  <line x1=\"0\" y1=\"0\" x2=\"25\" y2=\"0\" style=\"stroke-width:2\" />\n  <line x1=\"0\" y1=\"2\" x2=\"25\" y2=\"2\" />\n  <line x1=\"0\" y1=\"4\" x2=\"25\" y2=\"4\" />\n  <line x1=\"0\" y1=\"7\" x2=\"25\" y2=\"7\" />\n  <line x1=\"0\" y1=\"9\" x2=\"25\" y2=\"9\" />\n  <line x1=\"0\" y1=\"12\" x2=\"25\" y2=\"12\" />\n  <line x1=\"0\" y1=\"14\" x2=\"25\" y2=\"14\" />\n  <line x1=\"0\" y1=\"16\" x2=\"25\" y2=\"16\" />\n  <line x1=\"0\" y1=\"19\" x2=\"25\" y2=\"19\" />\n  <line x1=\"0\" y1=\"21\" x2=\"25\" y2=\"21\" />\n  <line x1=\"0\" y1=\"24\" x2=\"25\" y2=\"24\" />\n  <line x1=\"0\" y1=\"26\" x2=\"25\" y2=\"26\" />\n  <line x1=\"0\" y1=\"28\" x2=\"25\" y2=\"28\" />\n  <line x1=\"0\" y1=\"31\" x2=\"25\" y2=\"31\" />\n  <line x1=\"0\" y1=\"33\" x2=\"25\" y2=\"33\" />\n  <line x1=\"0\" y1=\"36\" x2=\"25\" y2=\"36\" />\n  <line x1=\"0\" y1=\"38\" x2=\"25\" y2=\"38\" />\n  <line x1=\"0\" y1=\"40\" x2=\"25\" y2=\"40\" />\n  <line x1=\"0\" y1=\"43\" x2=\"25\" y2=\"43\" />\n  <line x1=\"0\" y1=\"45\" x2=\"25\" y2=\"45\" />\n  <line x1=\"0\" y1=\"48\" x2=\"25\" y2=\"48\" />\n  <line x1=\"0\" y1=\"50\" x2=\"25\" y2=\"50\" />\n  <line x1=\"0\" y1=\"52\" x2=\"25\" y2=\"52\" />\n  <line x1=\"0\" y1=\"55\" x2=\"25\" y2=\"55\" />\n  <line x1=\"0\" y1=\"57\" x2=\"25\" y2=\"57\" />\n  <line x1=\"0\" y1=\"60\" x2=\"25\" y2=\"60\" />\n  <line x1=\"0\" y1=\"62\" x2=\"25\" y2=\"62\" />\n  <line x1=\"0\" y1=\"64\" x2=\"25\" y2=\"64\" />\n  <line x1=\"0\" y1=\"67\" x2=\"25\" y2=\"67\" />\n  <line x1=\"0\" y1=\"69\" x2=\"25\" y2=\"69\" />\n  <line x1=\"0\" y1=\"72\" x2=\"25\" y2=\"72\" />\n  <line x1=\"0\" y1=\"74\" x2=\"25\" y2=\"74\" />\n  <line x1=\"0\" y1=\"76\" x2=\"25\" y2=\"76\" />\n  <line x1=\"0\" y1=\"79\" x2=\"25\" y2=\"79\" />\n  <line x1=\"0\" y1=\"81\" x2=\"25\" y2=\"81\" />\n  <line x1=\"0\" y1=\"84\" x2=\"25\" y2=\"84\" />\n  <line x1=\"0\" y1=\"86\" x2=\"25\" y2=\"86\" />\n  <line x1=\"0\" y1=\"88\" x2=\"25\" y2=\"88\" />\n  <line x1=\"0\" y1=\"91\" x2=\"25\" y2=\"91\" />\n  <line x1=\"0\" y1=\"93\" x2=\"25\" y2=\"93\" />\n  <line x1=\"0\" y1=\"96\" x2=\"25\" y2=\"96\" />\n  <line x1=\"0\" y1=\"98\" x2=\"25\" y2=\"98\" />\n  <line x1=\"0\" y1=\"100\" x2=\"25\" y2=\"100\" />\n  <line x1=\"0\" y1=\"103\" x2=\"25\" y2=\"103\" />\n  <line x1=\"0\" y1=\"105\" x2=\"25\" y2=\"105\" />\n  <line x1=\"0\" y1=\"108\" x2=\"25\" y2=\"108\" />\n  <line x1=\"0\" y1=\"110\" x2=\"25\" y2=\"110\" />\n  <line x1=\"0\" y1=\"112\" x2=\"25\" y2=\"112\" />\n  <line x1=\"0\" y1=\"115\" x2=\"25\" y2=\"115\" />\n  <line x1=\"0\" y1=\"117\" x2=\"25\" y2=\"117\" />\n  <line x1=\"0\" y1=\"120\" x2=\"25\" y2=\"120\" style=\"stroke-width:2\" />\n\n  <!-- Vertical lines -->\n  <line x1=\"0\" y1=\"0\" x2=\"0\" y2=\"120\" style=\"stroke-width:2\" />\n  <line x1=\"25\" y1=\"0\" x2=\"25\" y2=\"120\" style=\"stroke-width:2\" />\n\n  <!-- Colored Rectangle -->\n  <polygon points=\"0.000000,0.000000 25.412617,0.000000 25.412617,120.000000 0.000000,120.000000\" style=\"fill:#ECB172A0;stroke-width:0\"/>\n\n  <!-- Text -->\n  <text x=\"12.706308\" y=\"140.000000\" font-size=\"1.0rem\" font-weight=\"100\" text-anchor=\"middle\" >1000</text>\n  <text x=\"45.412617\" y=\"60.000000\" font-size=\"1.0rem\" font-weight=\"100\" text-anchor=\"middle\" transform=\"rotate(-90,45.412617,60.000000)\">100000</text>\n</svg>\n</td>\n</tr>\n</table>"
     },
     "execution_count": 14,
     "metadata": {},
     "output_type": "execute_result"
    }
   ],
   "source": [
    "_split_count = 10\n",
    "_feature_num = 1000\n",
    "_label_num = 3\n",
    "_instance_num = 100000\n",
    "\n",
    "_X, _y = make_classification(n_samples=_instance_num, n_features=_feature_num, n_informative=2*_label_num, n_redundant=_label_num,\n",
    "                             n_repeated=0, n_classes=_label_num, n_clusters_per_class=_label_num, weights=None,\n",
    "                             flip_y=0.01,\n",
    "                             class_sep=1.0,\n",
    "                             hypercube=True, shift=0.0, scale=1.0, shuffle=True, random_state=None)\n",
    "\n",
    "_X = da.from_array(_X, chunks=\"16MB\")\n",
    "_y = da.from_array(_y, chunks=\"16MB\")\n",
    "\n",
    "_X"
   ]
  },
  {
   "cell_type": "code",
   "execution_count": 17,
   "outputs": [
    {
     "name": "stdout",
     "output_type": "stream",
     "text": [
      "CPU times: user 2.36 s, sys: 4.72 s, total: 7.08 s\n",
      "Wall time: 23.8 s\n"
     ]
    },
    {
     "data": {
      "text/plain": "([array([34123, 65724, 56383, ..., 97536, 33200, 45901]),\n  array([69364, 59224, 48604, ..., 47205, 96480,  5658]),\n  array([65976, 67267, 23770, ..., 66547, 12146, 90502]),\n  array([41213, 38752, 84086, ..., 64345,   224, 25987]),\n  array([62562, 60178, 42272, ..., 28148, 73391, 77133]),\n  array([26150, 52606, 82748, ..., 30045, 95182,  5412]),\n  array([33118, 54417, 79323, ...,   434, 36341, 74708]),\n  array([ 1838, 52092, 10399, ..., 47804, 97504, 62139]),\n  array([93192, 15499, 27486, ..., 73245, 97678, 55450]),\n  array([ 2528,  6065, 11823, ..., 17610, 89688, 92033])],\n [array([71585, 35957, 53828, ..., 60920, 21003, 93161]),\n  array([22078, 17129,  5370, ..., 55457, 21323, 38618]),\n  array([18214, 73446, 52599, ..., 71535, 87660, 81696]),\n  array([30522, 20566, 20528, ..., 57128,  4166, 32409]),\n  array([60461, 38911, 38394, ..., 18017, 73991, 80020]),\n  array([94590, 72338, 97502, ..., 66915, 44369, 40122]),\n  array([17115, 77576, 88236, ..., 11505, 98074, 30496]),\n  array([ 8506,  3692, 99403, ..., 31765, 88845, 81909]),\n  array([41964, 93637, 44821, ..., 54774, 88452,   781]),\n  array([36774, 77297, 68232, ..., 35281, 32547, 10427])],\n [array([34123, 65724, 56383, ..., 53852, 13272, 60847]),\n  array([69364, 59224, 48604, ..., 23182, 10434, 88801]),\n  array([65976, 67267, 23770, ..., 86357, 27763, 72130]),\n  array([41213, 38752, 84086, ..., 44677, 35087, 40926]),\n  array([62562, 60178, 42272, ..., 38484, 53983, 65709]),\n  array([26150, 52606, 82748, ..., 34928, 20917, 56667]),\n  array([33118, 54417, 79323, ..., 10799, 78070, 76560]),\n  array([ 1838, 52092, 10399, ..., 26676, 78220, 21867]),\n  array([93192, 15499, 27486, ..., 85885, 53883, 86449]),\n  array([ 2528,  6065, 11823, ..., 43558, 48992, 53039])],\n [array([20321, 43198, 73283, ..., 97536, 33200, 45901]),\n  array([12539, 98871, 76301, ..., 47205, 96480,  5658]),\n  array([84206, 25475, 33678, ..., 66547, 12146, 90502]),\n  array([85675, 77280, 53207, ..., 64345,   224, 25987]),\n  array([ 2656, 98075, 31668, ..., 28148, 73391, 77133]),\n  array([56367,  1083, 69172, ..., 30045, 95182,  5412]),\n  array([13350, 88659,  4453, ...,   434, 36341, 74708]),\n  array([26707, 25459, 78082, ..., 47804, 97504, 62139]),\n  array([ 2372, 85269, 90476, ..., 73245, 97678, 55450]),\n  array([ 7563, 23104, 15270, ..., 17610, 89688, 92033])])"
     },
     "execution_count": 17,
     "metadata": {},
     "output_type": "execute_result"
    }
   ],
   "source": [
    "%%time\n",
    "train_idx, test_idx, label_idx, unlabel_idx = split(X=_X,\n",
    "                                                    y=_X,\n",
    "                                                    all_class=True,\n",
    "                                                    split_count=_split_count,\n",
    "                                                    test_ratio=0.3,\n",
    "                                                    initial_label_rate=0.05)\n",
    "\n",
    "train_idx, test_idx, label_idx, unlabel_idx\n",
    "\n"
   ],
   "metadata": {
    "collapsed": false,
    "pycharm": {
     "name": "#%%\n"
    }
   }
  }
 ],
 "metadata": {
  "kernelspec": {
   "name": "pycharm-da2e0c5a",
   "language": "python",
   "display_name": "PyCharm (trabajo_fin_master)"
  },
  "language_info": {
   "codemirror_mode": {
    "name": "ipython",
    "version": 3
   },
   "file_extension": ".py",
   "mimetype": "text/x-python",
   "name": "python",
   "nbconvert_exporter": "python",
   "pygments_lexer": "ipython3",
   "version": "3.7.6"
  }
 },
 "nbformat": 4,
 "nbformat_minor": 4
}