{
 "cells": [
  {
   "cell_type": "markdown",
   "metadata": {},
   "source": [
    "# Python Active Learning\n",
    "\n",
    "[PCLAL](https://a24lorie@bitbucket.org/alorieuni/trab_fin_master.git) has resources for active learning in python.\n",
    "\n",
    "## Active Learning: Definition and Concepts\n",
    "\n",
    "The main hypothesis in active learning is that if a learning algorithm can choose the data it wants to learn from,\n",
    "it can perform better than traditional methods with substantially less data for training.\n",
    "\n",
    "But what are these traditional methods exactly?\n",
    "\n",
    "## Scenarios\n",
    "\n",
    "In active learning, there are typically three scenarios or settings in which the learner will query the labels of\n",
    "instances. The three main scenarios that have been considered in the literature are:\n",
    "\n",
    "<!---\n",
    "1. **Stream-Based Selective Sampling**: In this setting, you make the assumption that getting an unlabelled instance is free.\n",
    "Based on this assumption, you then select each unlabelled instance one at a time and allow the learner to determine\n",
    "whether it wants to query the label of the instance or reject it based on its informativeness.\n",
    "To determine informativeness of the the instance, you use a query strategy (see next section).\n",
    "Following with the example above, you would select one image from the set of unlabelled images, determine whether it\n",
    "needs to be labelled or discarded, and then repeat with the next imagine.\n",
    "\n",
    "![MembershipQuery](../static/streamBaseSelectiveSampling.png)\n",
    "-->\n",
    "\n",
    "- **Pool-Based sampling**: this setting assumes that there is a large pool of unlabelled data,\n",
    "as with the stream-based selective sampling. Instances are then drawn from the pool according to some informativeness\n",
    "measure. This measure is applied to all instances in the pool (or some subset if the pool is very large) and then\n",
    "the most informative instance(s) are selected. This is the most common scenario in the active learning community.\n",
    "Continuing with the example in the above two scenarios, all the unlabelled images of digits will be ranked\n",
    "and then the best (most informative) instance(s) will be selected and their labels requested.\n",
    "\n",
    "![MembershipQuery](../static/poolBasedSampling.png)\n",
    "\n",
    "<!---\n",
    "3. **Membership Query Synthesis**: this is a big term which simply means that the learner generates/constructs an instance\n",
    "(from some underlying natural distribution). For example, if the data is pictures of digits, the learner would create\n",
    "an image that is similar to a digit (it might be rotated or some piece of the digit excluded) and this created image\n",
    "is sent to the oracle to label.)\n",
    "\n",
    "![MembershipQuery](../static/membershipQuery.png)\n",
    "-->\n",
    "\n",
    "## Query Strategies\n",
    "\n",
    "The main or core difference between an active and a passive learner is the ability to query instances based upon past queries and\n",
    "the responses (labels) from those queries. As you have read before, all active learning scenarios require some sort of\n",
    "informativeness measure of the unlabelled instances. In this section I will explain three popular approaches for querying\n",
    "instances under the common topic called uncertainty sampling due to its use of probabilities\n",
    "(for more query strategies and more in-depth information on active learning in general I recommend this [survey](http://burrsettles.com/pub/settles.activelearning.pdf)\n",
    "paper).\n",
    "\n",
    "- **Random Query**:\n",
    "\n",
    "- **Entropy Sampling**: in order to utilize all the possible label probabilities, you use a popular measure called entropy.\n",
    "The entropy formula is applied to each instance and the instance with the largest value is queried.\n",
    "Using our example, d1 has a value of 0.155 while d2's value is 0.447 and so the learner will select d2 once again.\n",
    "\n",
    "- **Least Confidence (LC)**: in this strategy, the learner selects the instance for which it has the least confidence in its most likely label.\n",
    "Looking at the table, the leaner is pretty confident about the label for d1, since it thinks it should be labelled A with probability 0.9,\n",
    "however, it is less sure about the label of d2 since its probabilities are more spread and it thinks that it should be labelled B with a\n",
    "probability of only 0.5. Thus, using least confidence, the learner would select d2 to query it's actual label.\n",
    "\n",
    "- **Margin Sampling**: the shortcoming of the LC strategy, is that it only takes into consideration the most probable label and disregards the other label probabilities. The margin sampling strategy seeks to overcome this disadvantage by selecting the instance that has the smallest difference between the first and second most probable labels. Looking at d1, the difference between its first and second most probable labels is 0.81 (0.9 - 0.09) and for d2 it is 0.2 (0.5 - 0.3). Hence, the leaner will select d2 again.\n",
    "\n",
    "- **Distance to Boundary Sampling**\n",
    "\n",
    "\n",
    "## Stopping criteria\n",
    "\n",
    "- **Max Iterations**:\n",
    "\n",
    "- **Cost Limit**:\n",
    "\n",
    "- **Percent Of Unlabel**:\n",
    "\n",
    "- **Unlabel Set Empty**:\n",
    "\n",
    "- **TimeLimit**:\n",
    "\n",
    "\n",
    "## Example\n",
    "\n",
    "Lets show practical example of active learning.\n",
    "\n",
    "The Home Equity dataset (HMEQ). This dataset contains a baseline and loan performance information for 5,960 recent home equity loans.\n",
    "The target (BAD) is a binary variable indicating whether an applicant eventually defaulted or was seriously delinquent.\n",
    "This adverse outcome occurred in 1,189 cases (20%). For each applicant, 12 input variables were recorded.\n",
    "\n",
    "First lets load the data\n",
    "\n",
    "```\n",
    "df=pd.read_csv('../data/hmeq.csv')\n",
    "\n",
    "print(\"Lest look at the shape of the dataset: %s\" % str(df.shape))\n",
    "\n",
    "print(\"Show first 5 elements\")\n",
    "df.head(5)\n",
    "```"
   ]
  },
  {
   "cell_type": "code",
   "execution_count": 23,
   "metadata": {
    "pycharm": {
     "name": "#%%\n"
    }
   },
   "outputs": [
    {
     "name": "stdout",
     "output_type": "stream",
     "text": [
      "Lest look at the shape of the dataset: (5960, 13)\n",
      "Show first 5 elements\n"
     ]
    },
    {
     "data": {
      "text/html": [
       "<div>\n",
       "<style scoped>\n",
       "    .dataframe tbody tr th:only-of-type {\n",
       "        vertical-align: middle;\n",
       "    }\n",
       "\n",
       "    .dataframe tbody tr th {\n",
       "        vertical-align: top;\n",
       "    }\n",
       "\n",
       "    .dataframe thead th {\n",
       "        text-align: right;\n",
       "    }\n",
       "</style>\n",
       "<table border=\"1\" class=\"dataframe\">\n",
       "  <thead>\n",
       "    <tr style=\"text-align: right;\">\n",
       "      <th></th>\n",
       "      <th>BAD</th>\n",
       "      <th>LOAN</th>\n",
       "      <th>MORTDUE</th>\n",
       "      <th>VALUE</th>\n",
       "      <th>REASON</th>\n",
       "      <th>JOB</th>\n",
       "      <th>YOJ</th>\n",
       "      <th>DEROG</th>\n",
       "      <th>DELINQ</th>\n",
       "      <th>CLAGE</th>\n",
       "      <th>NINQ</th>\n",
       "      <th>CLNO</th>\n",
       "      <th>DEBTINC</th>\n",
       "    </tr>\n",
       "  </thead>\n",
       "  <tbody>\n",
       "    <tr>\n",
       "      <th>0</th>\n",
       "      <td>1</td>\n",
       "      <td>1100</td>\n",
       "      <td>25860.0</td>\n",
       "      <td>39025.0</td>\n",
       "      <td>HomeImp</td>\n",
       "      <td>Other</td>\n",
       "      <td>10.5</td>\n",
       "      <td>0.0</td>\n",
       "      <td>0.0</td>\n",
       "      <td>94.366667</td>\n",
       "      <td>1.0</td>\n",
       "      <td>9.0</td>\n",
       "      <td>NaN</td>\n",
       "    </tr>\n",
       "    <tr>\n",
       "      <th>1</th>\n",
       "      <td>1</td>\n",
       "      <td>1300</td>\n",
       "      <td>70053.0</td>\n",
       "      <td>68400.0</td>\n",
       "      <td>HomeImp</td>\n",
       "      <td>Other</td>\n",
       "      <td>7.0</td>\n",
       "      <td>0.0</td>\n",
       "      <td>2.0</td>\n",
       "      <td>121.833333</td>\n",
       "      <td>0.0</td>\n",
       "      <td>14.0</td>\n",
       "      <td>NaN</td>\n",
       "    </tr>\n",
       "    <tr>\n",
       "      <th>2</th>\n",
       "      <td>1</td>\n",
       "      <td>1500</td>\n",
       "      <td>13500.0</td>\n",
       "      <td>16700.0</td>\n",
       "      <td>HomeImp</td>\n",
       "      <td>Other</td>\n",
       "      <td>4.0</td>\n",
       "      <td>0.0</td>\n",
       "      <td>0.0</td>\n",
       "      <td>149.466667</td>\n",
       "      <td>1.0</td>\n",
       "      <td>10.0</td>\n",
       "      <td>NaN</td>\n",
       "    </tr>\n",
       "    <tr>\n",
       "      <th>3</th>\n",
       "      <td>1</td>\n",
       "      <td>1500</td>\n",
       "      <td>NaN</td>\n",
       "      <td>NaN</td>\n",
       "      <td>NaN</td>\n",
       "      <td>NaN</td>\n",
       "      <td>NaN</td>\n",
       "      <td>NaN</td>\n",
       "      <td>NaN</td>\n",
       "      <td>NaN</td>\n",
       "      <td>NaN</td>\n",
       "      <td>NaN</td>\n",
       "      <td>NaN</td>\n",
       "    </tr>\n",
       "    <tr>\n",
       "      <th>4</th>\n",
       "      <td>0</td>\n",
       "      <td>1700</td>\n",
       "      <td>97800.0</td>\n",
       "      <td>112000.0</td>\n",
       "      <td>HomeImp</td>\n",
       "      <td>Office</td>\n",
       "      <td>3.0</td>\n",
       "      <td>0.0</td>\n",
       "      <td>0.0</td>\n",
       "      <td>93.333333</td>\n",
       "      <td>0.0</td>\n",
       "      <td>14.0</td>\n",
       "      <td>NaN</td>\n",
       "    </tr>\n",
       "  </tbody>\n",
       "</table>\n",
       "</div>"
      ],
      "text/plain": [
       "   BAD  LOAN  MORTDUE     VALUE   REASON     JOB   YOJ  DEROG  DELINQ  \\\n",
       "0    1  1100  25860.0   39025.0  HomeImp   Other  10.5    0.0     0.0   \n",
       "1    1  1300  70053.0   68400.0  HomeImp   Other   7.0    0.0     2.0   \n",
       "2    1  1500  13500.0   16700.0  HomeImp   Other   4.0    0.0     0.0   \n",
       "3    1  1500      NaN       NaN      NaN     NaN   NaN    NaN     NaN   \n",
       "4    0  1700  97800.0  112000.0  HomeImp  Office   3.0    0.0     0.0   \n",
       "\n",
       "        CLAGE  NINQ  CLNO  DEBTINC  \n",
       "0   94.366667   1.0   9.0      NaN  \n",
       "1  121.833333   0.0  14.0      NaN  \n",
       "2  149.466667   1.0  10.0      NaN  \n",
       "3         NaN   NaN   NaN      NaN  \n",
       "4   93.333333   0.0  14.0      NaN  "
      ]
     },
     "execution_count": 23,
     "metadata": {},
     "output_type": "execute_result"
    }
   ],
   "source": [
    "import matplotlib.pyplot as plt\n",
    "import pandas as pd\n",
    "import seaborn as sns\n",
    "from sklearn.linear_model import LogisticRegression\n",
    "from sklearn.metrics import accuracy_score, f1_score, hamming_loss, precision_score, recall_score\n",
    "\n",
    "from pyacl.core.query_strategies import QueryMarginSampling\n",
    "from pyacl.core.stop_criteria import MaxIteration\n",
    "from pyacl.experiment import ExperimentAnalyserFactory\n",
    "from pyacl.experiment.context import HoldOutExperiment\n",
    "from pyacl.metrics import Accuracy\n",
    "from pyacl.metrics.performance import F1, Precision, Recall\n",
    "from pyacl.oracle import SimulatedOracleQueryIndex\n",
    "from pyacl.scenario.scenario import PoolBasedSamplingScenario\n",
    "from pyacl.utils.misc import split\n",
    "\n",
    "df=pd.read_csv('../resources/data/hmeq.csv') #import the dataset\n",
    "\n",
    "print(\"Lest look at the shape of the dataset: %s\" % str(df.shape))\n",
    "\n",
    "print(\"Show first 5 elements\")\n",
    "df.head(5)"
   ]
  },
  {
   "cell_type": "code",
   "execution_count": 24,
   "metadata": {},
   "outputs": [
    {
     "data": {
      "text/html": [
       "<table style=\"border: 2px solid white;\">\n",
       "<tr>\n",
       "<td style=\"vertical-align: top; border: 0px solid white\">\n",
       "<h3 style=\"text-align: left;\">Client</h3>\n",
       "<ul style=\"text-align: left; list-style: none; margin: 0; padding: 0;\">\n",
       "  <li><b>Scheduler: </b>tcp://127.0.0.1:45271</li>\n",
       "  <li><b>Dashboard: </b><a href='http://127.0.0.1:8787/status' target='_blank'>http://127.0.0.1:8787/status</a></li>\n",
       "</ul>\n",
       "</td>\n",
       "<td style=\"vertical-align: top; border: 0px solid white\">\n",
       "<h3 style=\"text-align: left;\">Cluster</h3>\n",
       "<ul style=\"text-align: left; list-style:none; margin: 0; padding: 0;\">\n",
       "  <li><b>Workers: </b>50</li>\n",
       "  <li><b>Cores: </b>150</li>\n",
       "  <li><b>Memory: </b>841.29 GB</li>\n",
       "</ul>\n",
       "</td>\n",
       "</tr>\n",
       "</table>"
      ],
      "text/plain": [
       "<Client: 'tcp://127.0.0.1:45271' processes=50 threads=150, memory=841.29 GB>"
      ]
     },
     "execution_count": 24,
     "metadata": {},
     "output_type": "execute_result"
    }
   ],
   "source": [
    "from dask.distributed import Client\n",
    "\n",
    "client = Client(\"tcp://127.0.0.1:45271\")\n",
    "client"
   ]
  },
  {
   "cell_type": "markdown",
   "metadata": {},
   "source": [
    "Lets check for missing Values\n",
    "\n",
    "```\n",
    "missing=df.isnull().sum().rename_axis('Variables').reset_index(name='Missing Values') # the isnull() returns 1 if the value is null\n",
    "missing\n",
    "```"
   ]
  },
  {
   "cell_type": "code",
   "execution_count": 25,
   "metadata": {
    "pycharm": {
     "name": "#%%\n"
    }
   },
   "outputs": [
    {
     "data": {
      "text/html": [
       "<div>\n",
       "<style scoped>\n",
       "    .dataframe tbody tr th:only-of-type {\n",
       "        vertical-align: middle;\n",
       "    }\n",
       "\n",
       "    .dataframe tbody tr th {\n",
       "        vertical-align: top;\n",
       "    }\n",
       "\n",
       "    .dataframe thead th {\n",
       "        text-align: right;\n",
       "    }\n",
       "</style>\n",
       "<table border=\"1\" class=\"dataframe\">\n",
       "  <thead>\n",
       "    <tr style=\"text-align: right;\">\n",
       "      <th></th>\n",
       "      <th>Variables</th>\n",
       "      <th>Missing Values</th>\n",
       "    </tr>\n",
       "  </thead>\n",
       "  <tbody>\n",
       "    <tr>\n",
       "      <th>0</th>\n",
       "      <td>BAD</td>\n",
       "      <td>0</td>\n",
       "    </tr>\n",
       "    <tr>\n",
       "      <th>1</th>\n",
       "      <td>LOAN</td>\n",
       "      <td>0</td>\n",
       "    </tr>\n",
       "    <tr>\n",
       "      <th>2</th>\n",
       "      <td>MORTDUE</td>\n",
       "      <td>518</td>\n",
       "    </tr>\n",
       "    <tr>\n",
       "      <th>3</th>\n",
       "      <td>VALUE</td>\n",
       "      <td>112</td>\n",
       "    </tr>\n",
       "    <tr>\n",
       "      <th>4</th>\n",
       "      <td>REASON</td>\n",
       "      <td>252</td>\n",
       "    </tr>\n",
       "    <tr>\n",
       "      <th>5</th>\n",
       "      <td>JOB</td>\n",
       "      <td>279</td>\n",
       "    </tr>\n",
       "    <tr>\n",
       "      <th>6</th>\n",
       "      <td>YOJ</td>\n",
       "      <td>515</td>\n",
       "    </tr>\n",
       "    <tr>\n",
       "      <th>7</th>\n",
       "      <td>DEROG</td>\n",
       "      <td>708</td>\n",
       "    </tr>\n",
       "    <tr>\n",
       "      <th>8</th>\n",
       "      <td>DELINQ</td>\n",
       "      <td>580</td>\n",
       "    </tr>\n",
       "    <tr>\n",
       "      <th>9</th>\n",
       "      <td>CLAGE</td>\n",
       "      <td>308</td>\n",
       "    </tr>\n",
       "    <tr>\n",
       "      <th>10</th>\n",
       "      <td>NINQ</td>\n",
       "      <td>510</td>\n",
       "    </tr>\n",
       "    <tr>\n",
       "      <th>11</th>\n",
       "      <td>CLNO</td>\n",
       "      <td>222</td>\n",
       "    </tr>\n",
       "    <tr>\n",
       "      <th>12</th>\n",
       "      <td>DEBTINC</td>\n",
       "      <td>1267</td>\n",
       "    </tr>\n",
       "  </tbody>\n",
       "</table>\n",
       "</div>"
      ],
      "text/plain": [
       "   Variables  Missing Values\n",
       "0        BAD               0\n",
       "1       LOAN               0\n",
       "2    MORTDUE             518\n",
       "3      VALUE             112\n",
       "4     REASON             252\n",
       "5        JOB             279\n",
       "6        YOJ             515\n",
       "7      DEROG             708\n",
       "8     DELINQ             580\n",
       "9      CLAGE             308\n",
       "10      NINQ             510\n",
       "11      CLNO             222\n",
       "12   DEBTINC            1267"
      ]
     },
     "execution_count": 25,
     "metadata": {},
     "output_type": "execute_result"
    }
   ],
   "source": [
    "missing=df.isnull().sum().rename_axis('Variables').reset_index(name='Missing Values') # the isnull() returns 1 if the value is null\n",
    "missing"
   ]
  },
  {
   "cell_type": "markdown",
   "metadata": {},
   "source": [
    "Dropping missing Values\n",
    "\n",
    "```\n",
    "df.dropna(axis=0, how='any', inplace=True)\n",
    "print(\"Lest look at the shape of the dataset: %s\" % str(df.shape))\n",
    "\n",
    "noMissing=df.isnull().sum().rename_axis('Variables').reset_index(name='Missing Values') # the isnull() returns 1 if the value is null\n",
    "noMissing\n",
    "```"
   ]
  },
  {
   "cell_type": "code",
   "execution_count": 26,
   "metadata": {
    "pycharm": {
     "name": "#%% time\n"
    }
   },
   "outputs": [
    {
     "name": "stdout",
     "output_type": "stream",
     "text": [
      "Lest look at the shape of the dataset: (3364, 13)\n"
     ]
    },
    {
     "data": {
      "text/html": [
       "<div>\n",
       "<style scoped>\n",
       "    .dataframe tbody tr th:only-of-type {\n",
       "        vertical-align: middle;\n",
       "    }\n",
       "\n",
       "    .dataframe tbody tr th {\n",
       "        vertical-align: top;\n",
       "    }\n",
       "\n",
       "    .dataframe thead th {\n",
       "        text-align: right;\n",
       "    }\n",
       "</style>\n",
       "<table border=\"1\" class=\"dataframe\">\n",
       "  <thead>\n",
       "    <tr style=\"text-align: right;\">\n",
       "      <th></th>\n",
       "      <th>Variables</th>\n",
       "      <th>Missing Values</th>\n",
       "    </tr>\n",
       "  </thead>\n",
       "  <tbody>\n",
       "    <tr>\n",
       "      <th>0</th>\n",
       "      <td>BAD</td>\n",
       "      <td>0</td>\n",
       "    </tr>\n",
       "    <tr>\n",
       "      <th>1</th>\n",
       "      <td>LOAN</td>\n",
       "      <td>0</td>\n",
       "    </tr>\n",
       "    <tr>\n",
       "      <th>2</th>\n",
       "      <td>MORTDUE</td>\n",
       "      <td>0</td>\n",
       "    </tr>\n",
       "    <tr>\n",
       "      <th>3</th>\n",
       "      <td>VALUE</td>\n",
       "      <td>0</td>\n",
       "    </tr>\n",
       "    <tr>\n",
       "      <th>4</th>\n",
       "      <td>REASON</td>\n",
       "      <td>0</td>\n",
       "    </tr>\n",
       "    <tr>\n",
       "      <th>5</th>\n",
       "      <td>JOB</td>\n",
       "      <td>0</td>\n",
       "    </tr>\n",
       "    <tr>\n",
       "      <th>6</th>\n",
       "      <td>YOJ</td>\n",
       "      <td>0</td>\n",
       "    </tr>\n",
       "    <tr>\n",
       "      <th>7</th>\n",
       "      <td>DEROG</td>\n",
       "      <td>0</td>\n",
       "    </tr>\n",
       "    <tr>\n",
       "      <th>8</th>\n",
       "      <td>DELINQ</td>\n",
       "      <td>0</td>\n",
       "    </tr>\n",
       "    <tr>\n",
       "      <th>9</th>\n",
       "      <td>CLAGE</td>\n",
       "      <td>0</td>\n",
       "    </tr>\n",
       "    <tr>\n",
       "      <th>10</th>\n",
       "      <td>NINQ</td>\n",
       "      <td>0</td>\n",
       "    </tr>\n",
       "    <tr>\n",
       "      <th>11</th>\n",
       "      <td>CLNO</td>\n",
       "      <td>0</td>\n",
       "    </tr>\n",
       "    <tr>\n",
       "      <th>12</th>\n",
       "      <td>DEBTINC</td>\n",
       "      <td>0</td>\n",
       "    </tr>\n",
       "  </tbody>\n",
       "</table>\n",
       "</div>"
      ],
      "text/plain": [
       "   Variables  Missing Values\n",
       "0        BAD               0\n",
       "1       LOAN               0\n",
       "2    MORTDUE               0\n",
       "3      VALUE               0\n",
       "4     REASON               0\n",
       "5        JOB               0\n",
       "6        YOJ               0\n",
       "7      DEROG               0\n",
       "8     DELINQ               0\n",
       "9      CLAGE               0\n",
       "10      NINQ               0\n",
       "11      CLNO               0\n",
       "12   DEBTINC               0"
      ]
     },
     "execution_count": 26,
     "metadata": {},
     "output_type": "execute_result"
    }
   ],
   "source": [
    "df.dropna(axis=0, how='any', inplace=True)\n",
    "\n",
    "print(\"Lest look at the shape of the dataset: %s\" % str(df.shape))\n",
    "\n",
    "noMissing=df.isnull().sum().rename_axis('Variables').reset_index(name='Missing Values') # the isnull() returns 1 if the value is null\n",
    "noMissing"
   ]
  },
  {
   "cell_type": "markdown",
   "metadata": {},
   "source": [
    "Analyzing the distribution of the target variable BAD\n",
    "\n",
    "```\n",
    "df[\"BAD\"].value_counts().plot.bar(title='BAD')\n",
    "```"
   ]
  },
  {
   "cell_type": "code",
   "execution_count": 27,
   "metadata": {
    "pycharm": {
     "name": "#%%\n"
    }
   },
   "outputs": [
    {
     "data": {
      "text/plain": [
       "<matplotlib.axes._subplots.AxesSubplot at 0x7f29fc54c490>"
      ]
     },
     "execution_count": 27,
     "metadata": {},
     "output_type": "execute_result"
    },
    {
     "data": {
      "image/png": "[encoded data removed]",
      "text/plain": [
       "<Figure size 432x288 with 1 Axes>"
      ]
     },
     "metadata": {
      "needs_background": "light"
     },
     "output_type": "display_data"
    }
   ],
   "source": [
    "#Frequency distribution of target variable \"BAD\" and visualizing the target variable\n",
    "df[\"BAD\"].value_counts().plot.bar(title='BAD')"
   ]
  },
  {
   "cell_type": "markdown",
   "metadata": {},
   "source": [
    "Correlation Analysis\n",
    "\n",
    "```\n",
    "#Create Correlation matrix\n",
    "corr = df.corr()\n",
    "#Plot figsize\n",
    "fig, ax = plt.subplots(figsize=(10,8))\n",
    "#Generate Color Map\n",
    "colormap = sns.diverging_palette(220, 10, as_cmap=True)\n",
    "#Generate Heat Map, allow annotations and place floats in map\n",
    "sns.heatmap(corr, cmap=colormap, annot=True, fmt=\".2f\")\n",
    "#Apply xticks\n",
    "plt.xticks(range(len(corr.columns)), corr.columns);\n",
    "#Apply yticks\n",
    "plt.yticks(range(len(corr.columns)), corr.columns)\n",
    "#show plot\n",
    "plt.show()\n",
    "```"
   ]
  },
  {
   "cell_type": "code",
   "execution_count": 28,
   "metadata": {
    "pycharm": {
     "name": "#%%\n"
    }
   },
   "outputs": [
    {
     "data": {
      "image/png": "[encoded data removed]",
      "text/plain": [
       "<Figure size 720x576 with 2 Axes>"
      ]
     },
     "metadata": {
      "needs_background": "light"
     },
     "output_type": "display_data"
    }
   ],
   "source": [
    "#Create Correlation matrix\n",
    "corr = df.corr()\n",
    "#Plot figsize\n",
    "fig, ax = plt.subplots(figsize=(10,8))\n",
    "#Generate Color Map\n",
    "colormap = sns.diverging_palette(220, 10, as_cmap=True)\n",
    "#Generate Heat Map, allow annotations and place floats in map\n",
    "sns.heatmap(corr, cmap=colormap, annot=True, fmt=\".2f\")\n",
    "#Apply xticks\n",
    "plt.xticks(range(len(corr.columns)), corr.columns);\n",
    "#Apply yticks\n",
    "plt.yticks(range(len(corr.columns)), corr.columns)\n",
    "#show plot\n",
    "plt.show()\n"
   ]
  },
  {
   "cell_type": "markdown",
   "metadata": {},
   "source": [
    "Encoding\n",
    "\n",
    "As many of the Machine Learning models takes only the numerical values as input so we have to convert categorical columns\n",
    "to numeric Dummy variable turns categorical variables into a series of 0 and 1, making them much easier to compare\n",
    "\n",
    "```\n",
    "df=pd.get_dummies(df, columns=['REASON','JOB'])\n",
    "\n",
    "print(\"Show first 5 elements\")\n",
    "df.head(5)\n",
    "```"
   ]
  },
  {
   "cell_type": "code",
   "execution_count": 29,
   "metadata": {
    "pycharm": {
     "name": "#%%\n"
    }
   },
   "outputs": [
    {
     "name": "stdout",
     "output_type": "stream",
     "text": [
      "Show first 5 elements\n"
     ]
    },
    {
     "data": {
      "text/html": [
       "<div>\n",
       "<style scoped>\n",
       "    .dataframe tbody tr th:only-of-type {\n",
       "        vertical-align: middle;\n",
       "    }\n",
       "\n",
       "    .dataframe tbody tr th {\n",
       "        vertical-align: top;\n",
       "    }\n",
       "\n",
       "    .dataframe thead th {\n",
       "        text-align: right;\n",
       "    }\n",
       "</style>\n",
       "<table border=\"1\" class=\"dataframe\">\n",
       "  <thead>\n",
       "    <tr style=\"text-align: right;\">\n",
       "      <th></th>\n",
       "      <th>BAD</th>\n",
       "      <th>LOAN</th>\n",
       "      <th>MORTDUE</th>\n",
       "      <th>VALUE</th>\n",
       "      <th>YOJ</th>\n",
       "      <th>DEROG</th>\n",
       "      <th>DELINQ</th>\n",
       "      <th>CLAGE</th>\n",
       "      <th>NINQ</th>\n",
       "      <th>CLNO</th>\n",
       "      <th>DEBTINC</th>\n",
       "      <th>REASON_DebtCon</th>\n",
       "      <th>REASON_HomeImp</th>\n",
       "      <th>JOB_Mgr</th>\n",
       "      <th>JOB_Office</th>\n",
       "      <th>JOB_Other</th>\n",
       "      <th>JOB_ProfExe</th>\n",
       "      <th>JOB_Sales</th>\n",
       "      <th>JOB_Self</th>\n",
       "    </tr>\n",
       "  </thead>\n",
       "  <tbody>\n",
       "    <tr>\n",
       "      <th>5</th>\n",
       "      <td>1</td>\n",
       "      <td>1700</td>\n",
       "      <td>30548.0</td>\n",
       "      <td>40320.0</td>\n",
       "      <td>9.0</td>\n",
       "      <td>0.0</td>\n",
       "      <td>0.0</td>\n",
       "      <td>101.466002</td>\n",
       "      <td>1.0</td>\n",
       "      <td>8.0</td>\n",
       "      <td>37.113614</td>\n",
       "      <td>0</td>\n",
       "      <td>1</td>\n",
       "      <td>0</td>\n",
       "      <td>0</td>\n",
       "      <td>1</td>\n",
       "      <td>0</td>\n",
       "      <td>0</td>\n",
       "      <td>0</td>\n",
       "    </tr>\n",
       "    <tr>\n",
       "      <th>7</th>\n",
       "      <td>1</td>\n",
       "      <td>1800</td>\n",
       "      <td>28502.0</td>\n",
       "      <td>43034.0</td>\n",
       "      <td>11.0</td>\n",
       "      <td>0.0</td>\n",
       "      <td>0.0</td>\n",
       "      <td>88.766030</td>\n",
       "      <td>0.0</td>\n",
       "      <td>8.0</td>\n",
       "      <td>36.884894</td>\n",
       "      <td>0</td>\n",
       "      <td>1</td>\n",
       "      <td>0</td>\n",
       "      <td>0</td>\n",
       "      <td>1</td>\n",
       "      <td>0</td>\n",
       "      <td>0</td>\n",
       "      <td>0</td>\n",
       "    </tr>\n",
       "    <tr>\n",
       "      <th>19</th>\n",
       "      <td>0</td>\n",
       "      <td>2300</td>\n",
       "      <td>102370.0</td>\n",
       "      <td>120953.0</td>\n",
       "      <td>2.0</td>\n",
       "      <td>0.0</td>\n",
       "      <td>0.0</td>\n",
       "      <td>90.992533</td>\n",
       "      <td>0.0</td>\n",
       "      <td>13.0</td>\n",
       "      <td>31.588503</td>\n",
       "      <td>0</td>\n",
       "      <td>1</td>\n",
       "      <td>0</td>\n",
       "      <td>1</td>\n",
       "      <td>0</td>\n",
       "      <td>0</td>\n",
       "      <td>0</td>\n",
       "      <td>0</td>\n",
       "    </tr>\n",
       "    <tr>\n",
       "      <th>25</th>\n",
       "      <td>1</td>\n",
       "      <td>2400</td>\n",
       "      <td>34863.0</td>\n",
       "      <td>47471.0</td>\n",
       "      <td>12.0</td>\n",
       "      <td>0.0</td>\n",
       "      <td>0.0</td>\n",
       "      <td>70.491080</td>\n",
       "      <td>1.0</td>\n",
       "      <td>21.0</td>\n",
       "      <td>38.263601</td>\n",
       "      <td>0</td>\n",
       "      <td>1</td>\n",
       "      <td>1</td>\n",
       "      <td>0</td>\n",
       "      <td>0</td>\n",
       "      <td>0</td>\n",
       "      <td>0</td>\n",
       "      <td>0</td>\n",
       "    </tr>\n",
       "    <tr>\n",
       "      <th>26</th>\n",
       "      <td>0</td>\n",
       "      <td>2400</td>\n",
       "      <td>98449.0</td>\n",
       "      <td>117195.0</td>\n",
       "      <td>4.0</td>\n",
       "      <td>0.0</td>\n",
       "      <td>0.0</td>\n",
       "      <td>93.811775</td>\n",
       "      <td>0.0</td>\n",
       "      <td>13.0</td>\n",
       "      <td>29.681827</td>\n",
       "      <td>0</td>\n",
       "      <td>1</td>\n",
       "      <td>0</td>\n",
       "      <td>1</td>\n",
       "      <td>0</td>\n",
       "      <td>0</td>\n",
       "      <td>0</td>\n",
       "      <td>0</td>\n",
       "    </tr>\n",
       "  </tbody>\n",
       "</table>\n",
       "</div>"
      ],
      "text/plain": [
       "    BAD  LOAN   MORTDUE     VALUE   YOJ  DEROG  DELINQ       CLAGE  NINQ  \\\n",
       "5     1  1700   30548.0   40320.0   9.0    0.0     0.0  101.466002   1.0   \n",
       "7     1  1800   28502.0   43034.0  11.0    0.0     0.0   88.766030   0.0   \n",
       "19    0  2300  102370.0  120953.0   2.0    0.0     0.0   90.992533   0.0   \n",
       "25    1  2400   34863.0   47471.0  12.0    0.0     0.0   70.491080   1.0   \n",
       "26    0  2400   98449.0  117195.0   4.0    0.0     0.0   93.811775   0.0   \n",
       "\n",
       "    CLNO    DEBTINC  REASON_DebtCon  REASON_HomeImp  JOB_Mgr  JOB_Office  \\\n",
       "5    8.0  37.113614               0               1        0           0   \n",
       "7    8.0  36.884894               0               1        0           0   \n",
       "19  13.0  31.588503               0               1        0           1   \n",
       "25  21.0  38.263601               0               1        1           0   \n",
       "26  13.0  29.681827               0               1        0           1   \n",
       "\n",
       "    JOB_Other  JOB_ProfExe  JOB_Sales  JOB_Self  \n",
       "5           1            0          0         0  \n",
       "7           1            0          0         0  \n",
       "19          0            0          0         0  \n",
       "25          0            0          0         0  \n",
       "26          0            0          0         0  "
      ]
     },
     "execution_count": 29,
     "metadata": {},
     "output_type": "execute_result"
    }
   ],
   "source": [
    "df=pd.get_dummies(df, columns=['REASON','JOB'])\n",
    "\n",
    "print(\"Show first 5 elements\")\n",
    "df.head(5)"
   ]
  },
  {
   "cell_type": "markdown",
   "metadata": {},
   "source": [
    "Extract independent and target variables and partition datasets\n",
    "\n",
    "```\n",
    "X = df.drop(['BAD'], axis=1)\n",
    "y = df.filter(['BAD'], axis=1)\n",
    "\n",
    "train_idx, test_idx, label_idx, unlabel_idx = split(\n",
    "    X=X,\n",
    "    y=y['BAD'],\n",
    "    test_ratio=0.3,\n",
    "    initial_label_rate=0.05,\n",
    "    split_count=1,\n",
    "    all_class=True)\n",
    "```"
   ]
  },
  {
   "cell_type": "code",
   "execution_count": 30,
   "metadata": {
    "pycharm": {
     "name": "#%%\n"
    }
   },
   "outputs": [
    {
     "name": "stdout",
     "output_type": "stream",
     "text": [
      "Show first 5 elements of X\n",
      "Show first 5 elements of y\n"
     ]
    }
   ],
   "source": [
    "X = df.drop(['BAD'], axis=1)\n",
    "y = df.filter(['BAD'], axis=1)\n",
    "\n",
    "print(\"Show first 5 elements of X\")\n",
    "X.head(5)\n",
    "\n",
    "print(\"Show first 5 elements of y\")\n",
    "y.head(5)\n",
    "\n",
    "\n",
    "train_idx, test_idx, label_idx, unlabel_idx = split(\n",
    "    X=X,\n",
    "    y=y['BAD'],\n",
    "    test_ratio=0.3,\n",
    "    initial_label_rate=0.05,\n",
    "    split_count=1,\n",
    "    all_class=True)"
   ]
  },
  {
   "cell_type": "markdown",
   "metadata": {},
   "source": [
    "## Now lets prepare the active learning experiment\n",
    "Define the machine learning technique\n",
    "\n",
    "```\n",
    "ml_technique = LogisticRegression(solver='liblinear')\n",
    "```"
   ]
  },
  {
   "cell_type": "code",
   "execution_count": 31,
   "metadata": {
    "pycharm": {
     "name": "#%%\n"
    }
   },
   "outputs": [],
   "source": [
    "ml_technique = LogisticRegression(solver='liblinear')"
   ]
  },
  {
   "cell_type": "markdown",
   "metadata": {},
   "source": [
    "Define the stopping criteria\n",
    "```\n",
    "stopping_criteria = MaxIteration(50)\n",
    "```"
   ]
  },
  {
   "cell_type": "code",
   "execution_count": 32,
   "metadata": {
    "pycharm": {
     "name": "#%%\n"
    }
   },
   "outputs": [],
   "source": [
    "stopping_criteria = MaxIteration(100)"
   ]
  },
  {
   "cell_type": "markdown",
   "metadata": {},
   "source": [
    "Define the Query Strategy\n",
    "```\n",
    "query_strategy =  QueryMarginSampling()\n",
    "```"
   ]
  },
  {
   "cell_type": "code",
   "execution_count": 33,
   "metadata": {
    "pycharm": {
     "name": "#%%\n"
    }
   },
   "outputs": [],
   "source": [
    "query_strategy =  QueryMarginSampling()"
   ]
  },
  {
   "cell_type": "markdown",
   "metadata": {},
   "source": [
    "Choose the evaluation Metrics\n",
    "\n",
    "```\n",
    "performance_metrics = [ Accuracy(), F1(average='macro'), Precision(average='macro'), Recall(average='macro')]\n",
    "```"
   ]
  },
  {
   "cell_type": "code",
   "execution_count": 34,
   "metadata": {
    "pycharm": {
     "name": "#%%\n"
    }
   },
   "outputs": [],
   "source": [
    "performance_metrics = [\n",
    "                Accuracy(),\n",
    "                F1(average='macro'),\n",
    "                Precision(average='macro'),\n",
    "                Recall(average='macro')]"
   ]
  },
  {
   "cell_type": "markdown",
   "metadata": {},
   "source": [
    "Create an experiment with the partitioned data\n",
    "\n",
    "```\n",
    "experiment = HoldOutExperiment(\n",
    "    X,\n",
    "    y['BAD'],\n",
    "    train_idx=train_idx,\n",
    "    test_idx=test_idx,\n",
    "    label_idx=label_idx,\n",
    "    unlabel_idx=unlabel_idx,\n",
    "    ml_technique=ml_technique,\n",
    "    performance_metrics=performance_metrics,\n",
    "    query_strategy=query_strategy,\n",
    "    oracle=SimulatedOracleQueryIndex(labels=y),\n",
    "    stopping_criteria=stopping_criteria,\n",
    "    self_partition=False\n",
    ")\n",
    "```"
   ]
  },
  {
   "cell_type": "code",
   "execution_count": 35,
   "metadata": {
    "pycharm": {
     "name": "#%%\n"
    }
   },
   "outputs": [
    {
     "name": "stdout",
     "output_type": "stream",
     "text": [
      "CPU times: user 12.1 s, sys: 790 ms, total: 12.9 s\n",
      "Wall time: 1min 39s\n"
     ]
    }
   ],
   "source": [
    "%%time\n",
    "# init the ALExperiment\n",
    "experiment = HoldOutExperiment(\n",
    "    X,\n",
    "    y['BAD'],\n",
    "    scenario_type=PoolBasedSamplingScenario,\n",
    "    train_idx=train_idx,\n",
    "    test_idx=test_idx,\n",
    "    label_idx=label_idx,\n",
    "    unlabel_idx=unlabel_idx,\n",
    "    ml_technique=ml_technique,\n",
    "    performance_metrics=performance_metrics,\n",
    "    query_strategy=query_strategy,\n",
    "    oracle=SimulatedOracleQueryIndex(labels=y),\n",
    "    stopping_criteria=stopping_criteria,\n",
    "    self_partition=False\n",
    ")"
   ]
  },
  {
   "cell_type": "markdown",
   "metadata": {},
   "source": [
    "Execute the experiment\n",
    "\n",
    "```\n",
    "result = experiment.evaluate(verbose=True)\n",
    "```"
   ]
  },
  {
   "cell_type": "code",
   "execution_count": null,
   "metadata": {
    "pycharm": {
     "name": "#%%\n"
    }
   },
   "outputs": [
    {
     "name": "stderr",
     "output_type": "stream",
     "text": [
      "distributed.client - WARNING - Couldn't gather 1 keys, rescheduling {\"('slice_with_int_dask_array_aggregate-b76500cdc003a74bb9b6b7299bcc9bfe', 0)\": ()}\n",
      "distributed.client - WARNING - Couldn't gather 1 keys, rescheduling {\"('slice_with_int_dask_array_aggregate-b76500cdc003a74bb9b6b7299bcc9bfe', 0)\": ()}\n",
      "distributed.client - WARNING - Couldn't gather 1 keys, rescheduling {\"('slice_with_int_dask_array_aggregate-b76500cdc003a74bb9b6b7299bcc9bfe', 0)\": ()}\n",
      "distributed.client - WARNING - Couldn't gather 1 keys, rescheduling {\"('slice_with_int_dask_array_aggregate-b76500cdc003a74bb9b6b7299bcc9bfe', 0)\": ()}\n",
      "distributed.client - WARNING - Couldn't gather 1 keys, rescheduling {\"('slice_with_int_dask_array_aggregate-b76500cdc003a74bb9b6b7299bcc9bfe', 0)\": ()}\n",
      "distributed.client - WARNING - Couldn't gather 1 keys, rescheduling {\"('slice_with_int_dask_array_aggregate-b76500cdc003a74bb9b6b7299bcc9bfe', 0)\": ()}\n",
      "distributed.client - WARNING - Couldn't gather 1 keys, rescheduling {\"('slice_with_int_dask_array_aggregate-b76500cdc003a74bb9b6b7299bcc9bfe', 0)\": ()}\n",
      "distributed.client - WARNING - Couldn't gather 1 keys, rescheduling {\"('slice_with_int_dask_array_aggregate-b76500cdc003a74bb9b6b7299bcc9bfe', 0)\": ()}\n",
      "distributed.client - WARNING - Couldn't gather 1 keys, rescheduling {\"('slice_with_int_dask_array_aggregate-b76500cdc003a74bb9b6b7299bcc9bfe', 0)\": ()}\n"
     ]
    }
   ],
   "source": [
    "%%time\n",
    "result = experiment.evaluate(verbose=False)"
   ]
  },
  {
   "cell_type": "markdown",
   "metadata": {},
   "source": [
    "Analyse the experiment results\n",
    "\n",
    "```\n",
    "query_analyser = ExperimentAnalyserFactory.experiment_analyser(\n",
    "                    performance_metrics= [metric.metric_name for metric in performance_metrics],\n",
    "                    method_name=query_strategy.query_function_name,\n",
    "                    method_results=result,\n",
    "                    type=\"queries\"\n",
    "                )\n",
    "\n",
    "# get a brief description of the experiment\n",
    "query_analyser.plot_learning_curves(title='Active Learning experiment results')\n",
    "```"
   ]
  },
  {
   "cell_type": "code",
   "execution_count": 18,
   "metadata": {
    "pycharm": {
     "name": "#%%\n"
    }
   },
   "outputs": [
    {
     "data": {
      "image/png": "[encoded data removed]",
      "text/plain": [
       "<Figure size 432x288 with 1 Axes>"
      ]
     },
     "metadata": {
      "needs_background": "light"
     },
     "output_type": "display_data"
    }
   ],
   "source": [
    "query_analyser = ExperimentAnalyserFactory.experiment_analyser(\n",
    "                    performance_metrics= [metric.metric_name for metric in performance_metrics],\n",
    "                    method_name=query_strategy.query_function_name,\n",
    "                    method_results=result,\n",
    "                    type=\"queries\"\n",
    "                )\n",
    "\n",
    "# get a brief description of the experiment\n",
    "query_analyser.plot_learning_curves(title='Active Learning experiment results')"
   ]
  },
  {
   "cell_type": "markdown",
   "metadata": {},
   "source": [
    "Retrieve the generated model and predict over the test dataset\n",
    "\n",
    "```\n",
    "\n",
    "foldIndex = 0\n",
    "train_x = X.iloc[train_idx[foldIndex], :]\n",
    "train_y = y.iloc[train_idx[foldIndex], :]\n",
    "test_x = X.iloc[test_idx[foldIndex], :]\n",
    "test_y = y.iloc[test_idx[foldIndex], :]\n",
    "\n",
    "active_y_pred = result[0].ml_technique.predict(test_x)\n",
    "\n",
    "```"
   ]
  },
  {
   "cell_type": "code",
   "execution_count": 15,
   "metadata": {
    "pycharm": {
     "name": "#%%\n"
    }
   },
   "outputs": [
    {
     "ename": "ValueError",
     "evalue": "Location based indexing can only have [integer, integer slice (START point is INCLUDED, END point is EXCLUDED), listlike of integers, boolean array] types",
     "output_type": "error",
     "traceback": [
      "\u001B[0;31m---------------------------------------------------------------------------\u001B[0m",
      "\u001B[0;31mValueError\u001B[0m                                Traceback (most recent call last)",
      "\u001B[0;32m~/Documents/WORKSPACES/WorkspaceUIMP/trabajo_fin_master/venv/lib/python3.7/site-packages/pandas/core/indexing.py\u001B[0m in \u001B[0;36m_has_valid_tuple\u001B[0;34m(self, key)\u001B[0m\n\u001B[1;32m    702\u001B[0m             \u001B[0;32mtry\u001B[0m\u001B[0;34m:\u001B[0m\u001B[0;34m\u001B[0m\u001B[0;34m\u001B[0m\u001B[0m\n\u001B[0;32m--> 703\u001B[0;31m                 \u001B[0mself\u001B[0m\u001B[0;34m.\u001B[0m\u001B[0m_validate_key\u001B[0m\u001B[0;34m(\u001B[0m\u001B[0mk\u001B[0m\u001B[0;34m,\u001B[0m \u001B[0mi\u001B[0m\u001B[0;34m)\u001B[0m\u001B[0;34m\u001B[0m\u001B[0;34m\u001B[0m\u001B[0m\n\u001B[0m\u001B[1;32m    704\u001B[0m             \u001B[0;32mexcept\u001B[0m \u001B[0mValueError\u001B[0m\u001B[0;34m:\u001B[0m\u001B[0;34m\u001B[0m\u001B[0;34m\u001B[0m\u001B[0m\n",
      "\u001B[0;32m~/Documents/WORKSPACES/WorkspaceUIMP/trabajo_fin_master/venv/lib/python3.7/site-packages/pandas/core/indexing.py\u001B[0m in \u001B[0;36m_validate_key\u001B[0;34m(self, key, axis)\u001B[0m\n\u001B[1;32m   2010\u001B[0m         \u001B[0;32melse\u001B[0m\u001B[0;34m:\u001B[0m\u001B[0;34m\u001B[0m\u001B[0;34m\u001B[0m\u001B[0m\n\u001B[0;32m-> 2011\u001B[0;31m             \u001B[0;32mraise\u001B[0m \u001B[0mValueError\u001B[0m\u001B[0;34m(\u001B[0m\u001B[0;34mf\"Can only index by location with a [{self._valid_types}]\"\u001B[0m\u001B[0;34m)\u001B[0m\u001B[0;34m\u001B[0m\u001B[0;34m\u001B[0m\u001B[0m\n\u001B[0m\u001B[1;32m   2012\u001B[0m \u001B[0;34m\u001B[0m\u001B[0m\n",
      "\u001B[0;31mValueError\u001B[0m: Can only index by location with a [integer, integer slice (START point is INCLUDED, END point is EXCLUDED), listlike of integers, boolean array]",
      "\nDuring handling of the above exception, another exception occurred:\n",
      "\u001B[0;31mValueError\u001B[0m                                Traceback (most recent call last)",
      "\u001B[0;32m<ipython-input-15-0d19f9a3b068>\u001B[0m in \u001B[0;36m<module>\u001B[0;34m\u001B[0m\n\u001B[1;32m      1\u001B[0m \u001B[0mfoldIndex\u001B[0m \u001B[0;34m=\u001B[0m \u001B[0;36m0\u001B[0m\u001B[0;34m\u001B[0m\u001B[0;34m\u001B[0m\u001B[0m\n\u001B[0;32m----> 2\u001B[0;31m \u001B[0mtrain_x\u001B[0m \u001B[0;34m=\u001B[0m \u001B[0mX\u001B[0m\u001B[0;34m.\u001B[0m\u001B[0miloc\u001B[0m\u001B[0;34m[\u001B[0m\u001B[0mtrain_idx\u001B[0m\u001B[0;34m[\u001B[0m\u001B[0mfoldIndex\u001B[0m\u001B[0;34m]\u001B[0m\u001B[0;34m,\u001B[0m \u001B[0;34m:\u001B[0m\u001B[0;34m]\u001B[0m\u001B[0;34m\u001B[0m\u001B[0;34m\u001B[0m\u001B[0m\n\u001B[0m\u001B[1;32m      3\u001B[0m \u001B[0mtrain_y\u001B[0m \u001B[0;34m=\u001B[0m \u001B[0my\u001B[0m\u001B[0;34m.\u001B[0m\u001B[0miloc\u001B[0m\u001B[0;34m[\u001B[0m\u001B[0mtrain_idx\u001B[0m\u001B[0;34m[\u001B[0m\u001B[0mfoldIndex\u001B[0m\u001B[0;34m]\u001B[0m\u001B[0;34m,\u001B[0m \u001B[0;34m:\u001B[0m\u001B[0;34m]\u001B[0m\u001B[0;34m\u001B[0m\u001B[0;34m\u001B[0m\u001B[0m\n\u001B[1;32m      4\u001B[0m \u001B[0mtest_x\u001B[0m \u001B[0;34m=\u001B[0m \u001B[0mX\u001B[0m\u001B[0;34m.\u001B[0m\u001B[0miloc\u001B[0m\u001B[0;34m[\u001B[0m\u001B[0mtest_idx\u001B[0m\u001B[0;34m[\u001B[0m\u001B[0mfoldIndex\u001B[0m\u001B[0;34m]\u001B[0m\u001B[0;34m,\u001B[0m \u001B[0;34m:\u001B[0m\u001B[0;34m]\u001B[0m\u001B[0;34m\u001B[0m\u001B[0;34m\u001B[0m\u001B[0m\n\u001B[1;32m      5\u001B[0m \u001B[0mtest_y\u001B[0m \u001B[0;34m=\u001B[0m \u001B[0my\u001B[0m\u001B[0;34m.\u001B[0m\u001B[0miloc\u001B[0m\u001B[0;34m[\u001B[0m\u001B[0mtest_idx\u001B[0m\u001B[0;34m[\u001B[0m\u001B[0mfoldIndex\u001B[0m\u001B[0;34m]\u001B[0m\u001B[0;34m,\u001B[0m \u001B[0;34m:\u001B[0m\u001B[0;34m]\u001B[0m\u001B[0;34m\u001B[0m\u001B[0;34m\u001B[0m\u001B[0m\n",
      "\u001B[0;32m~/Documents/WORKSPACES/WorkspaceUIMP/trabajo_fin_master/venv/lib/python3.7/site-packages/pandas/core/indexing.py\u001B[0m in \u001B[0;36m__getitem__\u001B[0;34m(self, key)\u001B[0m\n\u001B[1;32m   1760\u001B[0m                 \u001B[0;32mexcept\u001B[0m \u001B[0;34m(\u001B[0m\u001B[0mKeyError\u001B[0m\u001B[0;34m,\u001B[0m \u001B[0mIndexError\u001B[0m\u001B[0;34m,\u001B[0m \u001B[0mAttributeError\u001B[0m\u001B[0;34m)\u001B[0m\u001B[0;34m:\u001B[0m\u001B[0;34m\u001B[0m\u001B[0;34m\u001B[0m\u001B[0m\n\u001B[1;32m   1761\u001B[0m                     \u001B[0;32mpass\u001B[0m\u001B[0;34m\u001B[0m\u001B[0;34m\u001B[0m\u001B[0m\n\u001B[0;32m-> 1762\u001B[0;31m             \u001B[0;32mreturn\u001B[0m \u001B[0mself\u001B[0m\u001B[0;34m.\u001B[0m\u001B[0m_getitem_tuple\u001B[0m\u001B[0;34m(\u001B[0m\u001B[0mkey\u001B[0m\u001B[0;34m)\u001B[0m\u001B[0;34m\u001B[0m\u001B[0;34m\u001B[0m\u001B[0m\n\u001B[0m\u001B[1;32m   1763\u001B[0m         \u001B[0;32melse\u001B[0m\u001B[0;34m:\u001B[0m\u001B[0;34m\u001B[0m\u001B[0;34m\u001B[0m\u001B[0m\n\u001B[1;32m   1764\u001B[0m             \u001B[0;31m# we by definition only have the 0th axis\u001B[0m\u001B[0;34m\u001B[0m\u001B[0;34m\u001B[0m\u001B[0;34m\u001B[0m\u001B[0m\n",
      "\u001B[0;32m~/Documents/WORKSPACES/WorkspaceUIMP/trabajo_fin_master/venv/lib/python3.7/site-packages/pandas/core/indexing.py\u001B[0m in \u001B[0;36m_getitem_tuple\u001B[0;34m(self, tup)\u001B[0m\n\u001B[1;32m   2065\u001B[0m     \u001B[0;32mdef\u001B[0m \u001B[0m_getitem_tuple\u001B[0m\u001B[0;34m(\u001B[0m\u001B[0mself\u001B[0m\u001B[0;34m,\u001B[0m \u001B[0mtup\u001B[0m\u001B[0;34m:\u001B[0m \u001B[0mTuple\u001B[0m\u001B[0;34m)\u001B[0m\u001B[0;34m:\u001B[0m\u001B[0;34m\u001B[0m\u001B[0;34m\u001B[0m\u001B[0m\n\u001B[1;32m   2066\u001B[0m \u001B[0;34m\u001B[0m\u001B[0m\n\u001B[0;32m-> 2067\u001B[0;31m         \u001B[0mself\u001B[0m\u001B[0;34m.\u001B[0m\u001B[0m_has_valid_tuple\u001B[0m\u001B[0;34m(\u001B[0m\u001B[0mtup\u001B[0m\u001B[0;34m)\u001B[0m\u001B[0;34m\u001B[0m\u001B[0;34m\u001B[0m\u001B[0m\n\u001B[0m\u001B[1;32m   2068\u001B[0m         \u001B[0;32mtry\u001B[0m\u001B[0;34m:\u001B[0m\u001B[0;34m\u001B[0m\u001B[0;34m\u001B[0m\u001B[0m\n\u001B[1;32m   2069\u001B[0m             \u001B[0;32mreturn\u001B[0m \u001B[0mself\u001B[0m\u001B[0;34m.\u001B[0m\u001B[0m_getitem_lowerdim\u001B[0m\u001B[0;34m(\u001B[0m\u001B[0mtup\u001B[0m\u001B[0;34m)\u001B[0m\u001B[0;34m\u001B[0m\u001B[0;34m\u001B[0m\u001B[0m\n",
      "\u001B[0;32m~/Documents/WORKSPACES/WorkspaceUIMP/trabajo_fin_master/venv/lib/python3.7/site-packages/pandas/core/indexing.py\u001B[0m in \u001B[0;36m_has_valid_tuple\u001B[0;34m(self, key)\u001B[0m\n\u001B[1;32m    704\u001B[0m             \u001B[0;32mexcept\u001B[0m \u001B[0mValueError\u001B[0m\u001B[0;34m:\u001B[0m\u001B[0;34m\u001B[0m\u001B[0;34m\u001B[0m\u001B[0m\n\u001B[1;32m    705\u001B[0m                 raise ValueError(\n\u001B[0;32m--> 706\u001B[0;31m                     \u001B[0;34m\"Location based indexing can only have \"\u001B[0m\u001B[0;34m\u001B[0m\u001B[0;34m\u001B[0m\u001B[0m\n\u001B[0m\u001B[1;32m    707\u001B[0m                     \u001B[0;34mf\"[{self._valid_types}] types\"\u001B[0m\u001B[0;34m\u001B[0m\u001B[0;34m\u001B[0m\u001B[0m\n\u001B[1;32m    708\u001B[0m                 )\n",
      "\u001B[0;31mValueError\u001B[0m: Location based indexing can only have [integer, integer slice (START point is INCLUDED, END point is EXCLUDED), listlike of integers, boolean array] types"
     ]
    }
   ],
   "source": [
    "foldIndex = 0\n",
    "train_x = X.iloc[train_idx[foldIndex], :]\n",
    "train_y = y.iloc[train_idx[foldIndex], :]\n",
    "test_x = X.iloc[test_idx[foldIndex], :]\n",
    "test_y = y.iloc[test_idx[foldIndex], :]\n",
    "\n",
    "active_y_pred = result[0].ml_technique.predict(test_x)"
   ]
  },
  {
   "cell_type": "markdown",
   "metadata": {
    "pycharm": {
     "name": "#%% md\n"
    }
   },
   "source": [
    "Evaluate the predicted scores\n",
    "\n",
    "```\n",
    "print(\"Active Learning Accuracy score : \", accuracy_score(test_y, active_y_pred))\n",
    "print(\"Active Learning F1 score: \", f1_score(test_y, active_y_pred, average='macro'))\n",
    "print(\"Active Learning Hamming Loss\", hamming_loss(test_y, active_y_pred))\n",
    "print(\"Active Learning Precision score : \", precision_score(test_y, active_y_pred, average='macro'))\n",
    "print(\"Active Learning Recall score : \", recall_score(test_y, active_y_pred, average='macro'))\n",
    "```"
   ]
  },
  {
   "cell_type": "code",
   "execution_count": null,
   "metadata": {
    "pycharm": {
     "name": "#%%\n"
    }
   },
   "outputs": [],
   "source": [
    "print(\"Active Learning Accuracy score : \", accuracy_score(test_y, active_y_pred))\n",
    "print(\"Active Learning F1 score: \", f1_score(test_y, active_y_pred, average='macro', zero_division=0))\n",
    "print(\"Active Learning Hamming Loss\", hamming_loss(test_y, active_y_pred))\n",
    "print(\"Active Learning Precision score : \", precision_score(test_y, active_y_pred, average='macro', zero_division=0))\n",
    "print(\"Active Learning Recall score : \", recall_score(test_y, active_y_pred, average='macro', zero_division=0))"
   ]
  }
 ],
 "metadata": {
  "kernelspec": {
   "display_name": "Python 3",
   "language": "python",
   "name": "python3"
  },
  "language_info": {
   "codemirror_mode": {
    "name": "ipython",
    "version": 3
   },
   "file_extension": ".py",
   "mimetype": "text/x-python",
   "name": "python",
   "nbconvert_exporter": "python",
   "pygments_lexer": "ipython3",
   "version": "3.7.6"
  }
 },
 "nbformat": 4,
 "nbformat_minor": 4
}