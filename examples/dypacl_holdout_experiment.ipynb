{
 "cells": [
  {
   "cell_type": "code",
   "execution_count": 1,
   "metadata": {
    "collapsed": true
   },
   "outputs": [
    {
     "name": "stdout",
     "output_type": "stream",
     "text": [
      "Collecting dpyacl\n",
      "  Downloading dpyacl-0.3.tar.gz (48 kB)\n",
      "\u001B[K     |████████████████████████████████| 48 kB 1.9 MB/s eta 0:00:011\n",
      "\u001B[?25hRequirement already satisfied: dask in /srv/conda/envs/notebook/lib/python3.7/site-packages (from dpyacl) (2.9.1)\n",
      "Requirement already satisfied: dask-ml in /srv/conda/envs/notebook/lib/python3.7/site-packages (from dpyacl) (1.4.0)\n",
      "Requirement already satisfied: numpy in /srv/conda/envs/notebook/lib/python3.7/site-packages (from dpyacl) (1.17.5)\n",
      "Requirement already satisfied: scipy in /srv/conda/envs/notebook/lib/python3.7/site-packages (from dpyacl) (1.4.1)\n",
      "Requirement already satisfied: scikit-learn in /srv/conda/envs/notebook/lib/python3.7/site-packages (from dpyacl) (0.22.2.post1)\n",
      "Requirement already satisfied: matplotlib in /srv/conda/envs/notebook/lib/python3.7/site-packages (from dpyacl) (3.2.2)\n",
      "Collecting prettytable\n",
      "  Downloading prettytable-0.7.2.tar.bz2 (21 kB)\n",
      "Requirement already satisfied: multipledispatch>=0.4.9 in /srv/conda/envs/notebook/lib/python3.7/site-packages (from dask-ml->dpyacl) (0.6.0)\n",
      "Requirement already satisfied: pandas>=0.23.4 in /srv/conda/envs/notebook/lib/python3.7/site-packages (from dask-ml->dpyacl) (0.25.3)\n",
      "Requirement already satisfied: dask-glm>=0.2.0 in /srv/conda/envs/notebook/lib/python3.7/site-packages (from dask-ml->dpyacl) (0.2.0)\n",
      "Requirement already satisfied: packaging in /srv/conda/envs/notebook/lib/python3.7/site-packages (from dask-ml->dpyacl) (20.4)\n",
      "Requirement already satisfied: distributed>=2.4.0 in /srv/conda/envs/notebook/lib/python3.7/site-packages (from dask-ml->dpyacl) (2.19.0)\n",
      "Requirement already satisfied: numba in /srv/conda/envs/notebook/lib/python3.7/site-packages (from dask-ml->dpyacl) (0.49.1)\n",
      "Requirement already satisfied: joblib>=0.11 in /srv/conda/envs/notebook/lib/python3.7/site-packages (from scikit-learn->dpyacl) (0.15.1)\n",
      "Requirement already satisfied: pyparsing!=2.0.4,!=2.1.2,!=2.1.6,>=2.0.1 in /srv/conda/envs/notebook/lib/python3.7/site-packages (from matplotlib->dpyacl) (2.4.7)\n",
      "Requirement already satisfied: kiwisolver>=1.0.1 in /srv/conda/envs/notebook/lib/python3.7/site-packages (from matplotlib->dpyacl) (1.2.0)\n",
      "Requirement already satisfied: python-dateutil>=2.1 in /srv/conda/envs/notebook/lib/python3.7/site-packages (from matplotlib->dpyacl) (2.8.1)\n",
      "Requirement already satisfied: cycler>=0.10 in /srv/conda/envs/notebook/lib/python3.7/site-packages (from matplotlib->dpyacl) (0.10.0)\n",
      "Requirement already satisfied: six in /srv/conda/envs/notebook/lib/python3.7/site-packages (from multipledispatch>=0.4.9->dask-ml->dpyacl) (1.15.0)\n",
      "Requirement already satisfied: pytz>=2017.2 in /srv/conda/envs/notebook/lib/python3.7/site-packages (from pandas>=0.23.4->dask-ml->dpyacl) (2020.1)\n",
      "Requirement already satisfied: cloudpickle>=0.2.2 in /srv/conda/envs/notebook/lib/python3.7/site-packages (from dask-glm>=0.2.0->dask-ml->dpyacl) (1.4.1)\n",
      "Requirement already satisfied: sortedcontainers!=2.0.0,!=2.0.1 in /srv/conda/envs/notebook/lib/python3.7/site-packages (from distributed>=2.4.0->dask-ml->dpyacl) (2.2.2)\n",
      "Requirement already satisfied: zict>=0.1.3 in /srv/conda/envs/notebook/lib/python3.7/site-packages (from distributed>=2.4.0->dask-ml->dpyacl) (2.0.0)\n",
      "Requirement already satisfied: toolz>=0.8.2 in /srv/conda/envs/notebook/lib/python3.7/site-packages (from distributed>=2.4.0->dask-ml->dpyacl) (0.10.0)\n",
      "Requirement already satisfied: msgpack>=0.6.0 in /srv/conda/envs/notebook/lib/python3.7/site-packages (from distributed>=2.4.0->dask-ml->dpyacl) (1.0.0)\n",
      "Requirement already satisfied: pyyaml in /srv/conda/envs/notebook/lib/python3.7/site-packages (from distributed>=2.4.0->dask-ml->dpyacl) (5.3.1)\n",
      "Requirement already satisfied: tornado>=5; python_version < \"3.8\" in /srv/conda/envs/notebook/lib/python3.7/site-packages (from distributed>=2.4.0->dask-ml->dpyacl) (5.1.1)\n",
      "Requirement already satisfied: psutil>=5.0 in /srv/conda/envs/notebook/lib/python3.7/site-packages (from distributed>=2.4.0->dask-ml->dpyacl) (5.7.0)\n",
      "Requirement already satisfied: setuptools in /srv/conda/envs/notebook/lib/python3.7/site-packages (from distributed>=2.4.0->dask-ml->dpyacl) (47.1.1.post20200529)\n",
      "Requirement already satisfied: tblib>=1.6.0 in /srv/conda/envs/notebook/lib/python3.7/site-packages (from distributed>=2.4.0->dask-ml->dpyacl) (1.6.0)\n",
      "Requirement already satisfied: click>=6.6 in /srv/conda/envs/notebook/lib/python3.7/site-packages (from distributed>=2.4.0->dask-ml->dpyacl) (7.1.2)\n",
      "Requirement already satisfied: llvmlite<=0.33.0.dev0,>=0.31.0.dev0 in /srv/conda/envs/notebook/lib/python3.7/site-packages (from numba->dask-ml->dpyacl) (0.32.1)\n",
      "Requirement already satisfied: heapdict in /srv/conda/envs/notebook/lib/python3.7/site-packages (from zict>=0.1.3->distributed>=2.4.0->dask-ml->dpyacl) (1.0.1)\n",
      "Building wheels for collected packages: dpyacl, prettytable\n",
      "  Building wheel for dpyacl (setup.py) ... \u001B[?25ldone\n",
      "\u001B[?25h  Created wheel for dpyacl: filename=dpyacl-0.3-py3-none-any.whl size=53903 sha256=cf1778dfc9dcf6a82f4857d00444e6a01a82a5f1ffaab847720696478dea3211\n",
      "  Stored in directory: /home/jovyan/.cache/pip/wheels/84/78/bc/90f1c59739cc83e011143a4436d31b57dbfef0b140ad84355a\n",
      "  Building wheel for prettytable (setup.py) ... \u001B[?25ldone\n",
      "\u001B[?25h  Created wheel for prettytable: filename=prettytable-0.7.2-py3-none-any.whl size=13698 sha256=fb2d7a43c37884ed11a35ea6181cb0c77a0ac48a749ecd9d5d5e840226213449\n",
      "  Stored in directory: /home/jovyan/.cache/pip/wheels/8c/76/0b/eb9eb3da7e2335e3577e3f96a0ae9f74f206e26457bd1a2bc8\n",
      "Successfully built dpyacl prettytable\n",
      "Installing collected packages: prettytable, dpyacl\n",
      "Successfully installed dpyacl-0.3 prettytable-0.7.2\n",
      "Note: you may need to restart the kernel to use updated packages.\n"
     ]
    }
   ],
   "source": [
    "pip install dpyacl"
   ]
  },
  {
   "cell_type": "code",
   "execution_count": 26,
   "metadata": {},
   "outputs": [
    {
     "name": "stderr",
     "output_type": "stream",
     "text": [
      "/srv/conda/envs/notebook/lib/python3.7/site-packages/distributed/node.py:155: UserWarning: Port 8787 is already in use.\n",
      "Perhaps you already have a cluster running?\n",
      "Hosting the HTTP server on port 37497 instead\n",
      "  http_address[\"port\"], self.http_server.port\n"
     ]
    },
    {
     "data": {
      "text/html": [
       "<table style=\"border: 2px solid white;\">\n",
       "<tr>\n",
       "<td style=\"vertical-align: top; border: 0px solid white\">\n",
       "<h3 style=\"text-align: left;\">Client</h3>\n",
       "<ul style=\"text-align: left; list-style: none; margin: 0; padding: 0;\">\n",
       "  <li><b>Scheduler: </b>inproc://10.12.19.209/93/118</li>\n",
       "  <li><b>Dashboard: </b><a href='/user/dask-dask-examples-glqyapyz/proxy/37497/status' target='_blank'>/user/dask-dask-examples-glqyapyz/proxy/37497/status</a></li>\n",
       "</ul>\n",
       "</td>\n",
       "<td style=\"vertical-align: top; border: 0px solid white\">\n",
       "<h3 style=\"text-align: left;\">Cluster</h3>\n",
       "<ul style=\"text-align: left; list-style:none; margin: 0; padding: 0;\">\n",
       "  <li><b>Workers: </b>50</li>\n",
       "  <li><b>Cores: </b>100</li>\n",
       "  <li><b>Memory: </b>100.00 GB</li>\n",
       "</ul>\n",
       "</td>\n",
       "</tr>\n",
       "</table>"
      ],
      "text/plain": [
       "<Client: 'inproc://10.12.19.209/93/118' processes=50 threads=100, memory=100.00 GB>"
      ]
     },
     "execution_count": 26,
     "metadata": {},
     "output_type": "execute_result"
    }
   ],
   "source": [
    "from dask.distributed import Client, progress\n",
    "client = Client(processes=False, threads_per_worker=2,\n",
    "                n_workers=50, memory_limit='2GB')\n",
    "client"
   ]
  },
  {
   "cell_type": "code",
   "execution_count": 27,
   "metadata": {},
   "outputs": [],
   "source": [
    "import dask.array as da\n",
    "from sklearn.datasets import make_classification, load_diabetes, load_iris\n",
    "\n",
    "X, y = load_iris(return_X_y=True)\n",
    "X = da.from_array(X)\n",
    "y = da.from_array(y)\n"
   ]
  },
  {
   "cell_type": "code",
   "execution_count": 28,
   "metadata": {},
   "outputs": [
    {
     "data": {
      "text/html": [
       "<table>\n",
       "<tr>\n",
       "<td>\n",
       "<table>\n",
       "  <thead>\n",
       "    <tr><td> </td><th> Array </th><th> Chunk </th></tr>\n",
       "  </thead>\n",
       "  <tbody>\n",
       "    <tr><th> Bytes </th><td> 4.80 kB </td> <td> 4.80 kB </td></tr>\n",
       "    <tr><th> Shape </th><td> (150, 4) </td> <td> (150, 4) </td></tr>\n",
       "    <tr><th> Count </th><td> 1 Tasks </td><td> 1 Chunks </td></tr>\n",
       "    <tr><th> Type </th><td> float64 </td><td> numpy.ndarray </td></tr>\n",
       "  </tbody>\n",
       "</table>\n",
       "</td>\n",
       "<td>\n",
       "<svg width=\"80\" height=\"170\" style=\"stroke:rgb(0,0,0);stroke-width:1\" >\n",
       "\n",
       "  <!-- Horizontal lines -->\n",
       "  <line x1=\"0\" y1=\"0\" x2=\"30\" y2=\"0\" style=\"stroke-width:2\" />\n",
       "  <line x1=\"0\" y1=\"120\" x2=\"30\" y2=\"120\" style=\"stroke-width:2\" />\n",
       "\n",
       "  <!-- Vertical lines -->\n",
       "  <line x1=\"0\" y1=\"0\" x2=\"0\" y2=\"120\" style=\"stroke-width:2\" />\n",
       "  <line x1=\"30\" y1=\"0\" x2=\"30\" y2=\"120\" style=\"stroke-width:2\" />\n",
       "\n",
       "  <!-- Colored Rectangle -->\n",
       "  <polygon points=\"0.000000,0.000000 30.690372,0.000000 30.690372,120.000000 0.000000,120.000000\" style=\"fill:#ECB172A0;stroke-width:0\"/>\n",
       "\n",
       "  <!-- Text -->\n",
       "  <text x=\"15.345186\" y=\"140.000000\" font-size=\"1.0rem\" font-weight=\"100\" text-anchor=\"middle\" >4</text>\n",
       "  <text x=\"50.690372\" y=\"60.000000\" font-size=\"1.0rem\" font-weight=\"100\" text-anchor=\"middle\" transform=\"rotate(-90,50.690372,60.000000)\">150</text>\n",
       "</svg>\n",
       "</td>\n",
       "</tr>\n",
       "</table>"
      ],
      "text/plain": [
       "dask.array<array, shape=(150, 4), dtype=float64, chunksize=(150, 4), chunktype=numpy.ndarray>"
      ]
     },
     "execution_count": 28,
     "metadata": {},
     "output_type": "execute_result"
    }
   ],
   "source": [
    "X"
   ]
  },
  {
   "cell_type": "code",
   "execution_count": 29,
   "metadata": {},
   "outputs": [],
   "source": [
    "from sklearn.linear_model import LogisticRegression\n",
    "from dpyacl.core.stop_criteria import MaxIteration\n",
    "from dpyacl.strategies.single_label import QueryMarginSampling\n",
    "from dpyacl.metrics.evaluation import Accuracy, F1, HammingLoss\n",
    "\n",
    "ml_technique = LogisticRegression(solver='sag')\n",
    "stopping_criteria = MaxIteration(50)\n",
    "query_strategy = QueryMarginSampling()\n",
    "performance_metrics = [Accuracy(),\n",
    "                       F1(average='weighted'),\n",
    "                       HammingLoss()]"
   ]
  },
  {
   "cell_type": "code",
   "execution_count": 30,
   "metadata": {},
   "outputs": [],
   "source": [
    "from dpyacl.experiment.context import HoldOutExperiment\n",
    "from dpyacl.oracle import SimulatedOracle\n",
    "from dpyacl.scenario import PoolBasedSamplingScenario\n",
    "\n",
    "# init the ALExperiment\n",
    "experiment = HoldOutExperiment(\n",
    "    X,\n",
    "    y,\n",
    "    scenario_type=PoolBasedSamplingScenario,\n",
    "    ml_technique=ml_technique,\n",
    "    performance_metrics=performance_metrics,\n",
    "    query_strategy=query_strategy,\n",
    "    oracle=SimulatedOracle(labels=y),\n",
    "    stopping_criteria=stopping_criteria,\n",
    "    self_partition=True,\n",
    "    test_ratio=0.3,\n",
    "    initial_label_rate=0.05,\n",
    "    all_class=True\n",
    ")"
   ]
  },
  {
   "cell_type": "code",
   "execution_count": 31,
   "metadata": {},
   "outputs": [
    {
     "name": "stderr",
     "output_type": "stream",
     "text": [
      "/srv/conda/envs/notebook/lib/python3.7/site-packages/sklearn/linear_model/_sag.py:330: ConvergenceWarning: The max_iter was reached which means the coef_ did not converge\n",
      "  \"the coef_ did not converge\", ConvergenceWarning)\n"
     ]
    },
    {
     "name": "stdout",
     "output_type": "stream",
     "text": [
      "Label: [1], Cost: [1]\n",
      "\n",
      "| round | initially labeled data | number of queries | cost | accuracy_score: |  f1_score:   | hamming_loss: |\n",
      "|   0   |    5 (4.76% of all)    |         1         |  0   |   0.600 ± 0.00  | 0.502 ± 0.00 |  0.400 ± 0.00 |"
     ]
    },
    {
     "name": "stderr",
     "output_type": "stream",
     "text": [
      "/srv/conda/envs/notebook/lib/python3.7/site-packages/sklearn/linear_model/_sag.py:330: ConvergenceWarning: The max_iter was reached which means the coef_ did not converge\n",
      "  \"the coef_ did not converge\", ConvergenceWarning)\n"
     ]
    },
    {
     "name": "stdout",
     "output_type": "stream",
     "text": [
      "Label: [1], Cost: [1]\n",
      "|   0   |    5 (4.76% of all)    |         2         |  0   |   0.789 ± 0.19  | 0.740 ± 0.24 |  0.211 ± 0.19 |"
     ]
    },
    {
     "name": "stderr",
     "output_type": "stream",
     "text": [
      "/srv/conda/envs/notebook/lib/python3.7/site-packages/sklearn/linear_model/_sag.py:330: ConvergenceWarning: The max_iter was reached which means the coef_ did not converge\n",
      "  \"the coef_ did not converge\", ConvergenceWarning)\n"
     ]
    },
    {
     "name": "stdout",
     "output_type": "stream",
     "text": [
      "Label: [2], Cost: [1]\n",
      "|   0   |    5 (4.76% of all)    |         3         |  0   |   0.763 ± 0.16  | 0.694 ± 0.20 |  0.237 ± 0.16 |"
     ]
    },
    {
     "name": "stderr",
     "output_type": "stream",
     "text": [
      "/srv/conda/envs/notebook/lib/python3.7/site-packages/sklearn/linear_model/_sag.py:330: ConvergenceWarning: The max_iter was reached which means the coef_ did not converge\n",
      "  \"the coef_ did not converge\", ConvergenceWarning)\n"
     ]
    },
    {
     "name": "stdout",
     "output_type": "stream",
     "text": [
      "Label: [2], Cost: [1]\n",
      "|   0   |    5 (4.76% of all)    |         4         |  0   |   0.800 ± 0.15  | 0.748 ± 0.20 |  0.200 ± 0.15 |"
     ]
    },
    {
     "name": "stderr",
     "output_type": "stream",
     "text": [
      "/srv/conda/envs/notebook/lib/python3.7/site-packages/sklearn/linear_model/_sag.py:330: ConvergenceWarning: The max_iter was reached which means the coef_ did not converge\n",
      "  \"the coef_ did not converge\", ConvergenceWarning)\n"
     ]
    },
    {
     "name": "stdout",
     "output_type": "stream",
     "text": [
      "Label: [1], Cost: [1]\n",
      "|   0   |    5 (4.76% of all)    |         5         |  0   |   0.822 ± 0.14  | 0.780 ± 0.19 |  0.178 ± 0.14 |"
     ]
    },
    {
     "name": "stderr",
     "output_type": "stream",
     "text": [
      "/srv/conda/envs/notebook/lib/python3.7/site-packages/sklearn/linear_model/_sag.py:330: ConvergenceWarning: The max_iter was reached which means the coef_ did not converge\n",
      "  \"the coef_ did not converge\", ConvergenceWarning)\n"
     ]
    },
    {
     "name": "stdout",
     "output_type": "stream",
     "text": [
      "Label: [2], Cost: [1]\n",
      "|   0   |    5 (4.76% of all)    |         6         |  0   |   0.848 ± 0.14  | 0.813 ± 0.19 |  0.152 ± 0.14 |"
     ]
    },
    {
     "name": "stderr",
     "output_type": "stream",
     "text": [
      "/srv/conda/envs/notebook/lib/python3.7/site-packages/sklearn/linear_model/_sag.py:330: ConvergenceWarning: The max_iter was reached which means the coef_ did not converge\n",
      "  \"the coef_ did not converge\", ConvergenceWarning)\n"
     ]
    },
    {
     "name": "stdout",
     "output_type": "stream",
     "text": [
      "Label: [1], Cost: [1]\n",
      "|   0   |    5 (4.76% of all)    |         7         |  0   |   0.857 ± 0.13  | 0.827 ± 0.18 |  0.143 ± 0.13 |"
     ]
    },
    {
     "name": "stderr",
     "output_type": "stream",
     "text": [
      "/srv/conda/envs/notebook/lib/python3.7/site-packages/sklearn/linear_model/_sag.py:330: ConvergenceWarning: The max_iter was reached which means the coef_ did not converge\n",
      "  \"the coef_ did not converge\", ConvergenceWarning)\n"
     ]
    },
    {
     "name": "stdout",
     "output_type": "stream",
     "text": [
      "Label: [2], Cost: [1]\n",
      "|   0   |    5 (4.76% of all)    |         8         |  0   |   0.875 ± 0.13  | 0.849 ± 0.18 |  0.125 ± 0.13 |"
     ]
    },
    {
     "name": "stderr",
     "output_type": "stream",
     "text": [
      "/srv/conda/envs/notebook/lib/python3.7/site-packages/sklearn/linear_model/_sag.py:330: ConvergenceWarning: The max_iter was reached which means the coef_ did not converge\n",
      "  \"the coef_ did not converge\", ConvergenceWarning)\n"
     ]
    },
    {
     "name": "stdout",
     "output_type": "stream",
     "text": [
      "Label: [1], Cost: [1]\n",
      "|   0   |    5 (4.76% of all)    |         9         |  0   |   0.881 ± 0.13  | 0.858 ± 0.17 |  0.119 ± 0.13 |"
     ]
    },
    {
     "name": "stderr",
     "output_type": "stream",
     "text": [
      "/srv/conda/envs/notebook/lib/python3.7/site-packages/sklearn/linear_model/_sag.py:330: ConvergenceWarning: The max_iter was reached which means the coef_ did not converge\n",
      "  \"the coef_ did not converge\", ConvergenceWarning)\n"
     ]
    },
    {
     "name": "stdout",
     "output_type": "stream",
     "text": [
      "Label: [1], Cost: [1]\n",
      "|   0   |    5 (4.76% of all)    |         10        |  0   |   0.887 ± 0.12  | 0.866 ± 0.16 |  0.113 ± 0.12 |"
     ]
    },
    {
     "name": "stderr",
     "output_type": "stream",
     "text": [
      "/srv/conda/envs/notebook/lib/python3.7/site-packages/sklearn/linear_model/_sag.py:330: ConvergenceWarning: The max_iter was reached which means the coef_ did not converge\n",
      "  \"the coef_ did not converge\", ConvergenceWarning)\n"
     ]
    },
    {
     "name": "stdout",
     "output_type": "stream",
     "text": [
      "Label: [2], Cost: [1]\n",
      "|   0   |    5 (4.76% of all)    |         11        |  0   |   0.891 ± 0.12  | 0.872 ± 0.15 |  0.109 ± 0.12 |"
     ]
    },
    {
     "name": "stderr",
     "output_type": "stream",
     "text": [
      "/srv/conda/envs/notebook/lib/python3.7/site-packages/sklearn/linear_model/_sag.py:330: ConvergenceWarning: The max_iter was reached which means the coef_ did not converge\n",
      "  \"the coef_ did not converge\", ConvergenceWarning)\n"
     ]
    },
    {
     "name": "stdout",
     "output_type": "stream",
     "text": [
      "Label: [2], Cost: [1]\n",
      "|   0   |    5 (4.76% of all)    |         12        |  0   |   0.894 ± 0.11  | 0.877 ± 0.15 |  0.106 ± 0.11 |"
     ]
    },
    {
     "name": "stderr",
     "output_type": "stream",
     "text": [
      "/srv/conda/envs/notebook/lib/python3.7/site-packages/sklearn/linear_model/_sag.py:330: ConvergenceWarning: The max_iter was reached which means the coef_ did not converge\n",
      "  \"the coef_ did not converge\", ConvergenceWarning)\n"
     ]
    },
    {
     "name": "stdout",
     "output_type": "stream",
     "text": [
      "Label: [2], Cost: [1]\n",
      "|   0   |    5 (4.76% of all)    |         13        |  0   |   0.897 ± 0.11  | 0.882 ± 0.14 |  0.103 ± 0.11 |"
     ]
    },
    {
     "name": "stderr",
     "output_type": "stream",
     "text": [
      "/srv/conda/envs/notebook/lib/python3.7/site-packages/sklearn/linear_model/_sag.py:330: ConvergenceWarning: The max_iter was reached which means the coef_ did not converge\n",
      "  \"the coef_ did not converge\", ConvergenceWarning)\n"
     ]
    },
    {
     "name": "stdout",
     "output_type": "stream",
     "text": [
      "Label: [1], Cost: [1]\n",
      "|   0   |    5 (4.76% of all)    |         14        |  0   |   0.900 ± 0.11  | 0.885 ± 0.14 |  0.100 ± 0.11 |"
     ]
    },
    {
     "name": "stderr",
     "output_type": "stream",
     "text": [
      "/srv/conda/envs/notebook/lib/python3.7/site-packages/sklearn/linear_model/_sag.py:330: ConvergenceWarning: The max_iter was reached which means the coef_ did not converge\n",
      "  \"the coef_ did not converge\", ConvergenceWarning)\n"
     ]
    },
    {
     "name": "stdout",
     "output_type": "stream",
     "text": [
      "Label: [1], Cost: [1]\n",
      "|   0   |    5 (4.76% of all)    |         15        |  0   |   0.902 ± 0.10  | 0.889 ± 0.14 |  0.098 ± 0.10 |"
     ]
    },
    {
     "name": "stderr",
     "output_type": "stream",
     "text": [
      "/srv/conda/envs/notebook/lib/python3.7/site-packages/sklearn/linear_model/_sag.py:330: ConvergenceWarning: The max_iter was reached which means the coef_ did not converge\n",
      "  \"the coef_ did not converge\", ConvergenceWarning)\n"
     ]
    },
    {
     "name": "stdout",
     "output_type": "stream",
     "text": [
      "Label: [2], Cost: [1]\n",
      "|   0   |    5 (4.76% of all)    |         16        |  0   |   0.908 ± 0.10  | 0.896 ± 0.13 |  0.092 ± 0.10 |"
     ]
    },
    {
     "name": "stderr",
     "output_type": "stream",
     "text": [
      "/srv/conda/envs/notebook/lib/python3.7/site-packages/sklearn/linear_model/_sag.py:330: ConvergenceWarning: The max_iter was reached which means the coef_ did not converge\n",
      "  \"the coef_ did not converge\", ConvergenceWarning)\n"
     ]
    },
    {
     "name": "stdout",
     "output_type": "stream",
     "text": [
      "Label: [1], Cost: [1]\n",
      "|   0   |    5 (4.76% of all)    |         17        |  0   |   0.910 ± 0.10  | 0.898 ± 0.13 |  0.090 ± 0.10 |"
     ]
    },
    {
     "name": "stderr",
     "output_type": "stream",
     "text": [
      "/srv/conda/envs/notebook/lib/python3.7/site-packages/sklearn/linear_model/_sag.py:330: ConvergenceWarning: The max_iter was reached which means the coef_ did not converge\n",
      "  \"the coef_ did not converge\", ConvergenceWarning)\n"
     ]
    },
    {
     "name": "stdout",
     "output_type": "stream",
     "text": [
      "Label: [2], Cost: [1]\n",
      "|   0   |    5 (4.76% of all)    |         18        |  0   |   0.914 ± 0.10  | 0.902 ± 0.13 |  0.086 ± 0.10 |"
     ]
    },
    {
     "name": "stderr",
     "output_type": "stream",
     "text": [
      "/srv/conda/envs/notebook/lib/python3.7/site-packages/sklearn/linear_model/_sag.py:330: ConvergenceWarning: The max_iter was reached which means the coef_ did not converge\n",
      "  \"the coef_ did not converge\", ConvergenceWarning)\n"
     ]
    },
    {
     "name": "stdout",
     "output_type": "stream",
     "text": [
      "Label: [1], Cost: [1]\n",
      "|   0   |    5 (4.76% of all)    |         19        |  0   |   0.915 ± 0.09  | 0.904 ± 0.12 |  0.085 ± 0.09 |"
     ]
    },
    {
     "name": "stderr",
     "output_type": "stream",
     "text": [
      "/srv/conda/envs/notebook/lib/python3.7/site-packages/sklearn/linear_model/_sag.py:330: ConvergenceWarning: The max_iter was reached which means the coef_ did not converge\n",
      "  \"the coef_ did not converge\", ConvergenceWarning)\n"
     ]
    },
    {
     "name": "stdout",
     "output_type": "stream",
     "text": [
      "Label: [2], Cost: [1]\n",
      "|   0   |    5 (4.76% of all)    |         20        |  0   |   0.917 ± 0.09  | 0.907 ± 0.12 |  0.083 ± 0.09 |"
     ]
    },
    {
     "name": "stderr",
     "output_type": "stream",
     "text": [
      "/srv/conda/envs/notebook/lib/python3.7/site-packages/sklearn/linear_model/_sag.py:330: ConvergenceWarning: The max_iter was reached which means the coef_ did not converge\n",
      "  \"the coef_ did not converge\", ConvergenceWarning)\n"
     ]
    },
    {
     "name": "stdout",
     "output_type": "stream",
     "text": [
      "Label: [1], Cost: [1]\n",
      "|   0   |    5 (4.76% of all)    |         21        |  0   |   0.917 ± 0.09  | 0.908 ± 0.12 |  0.083 ± 0.09 |"
     ]
    },
    {
     "name": "stderr",
     "output_type": "stream",
     "text": [
      "/srv/conda/envs/notebook/lib/python3.7/site-packages/sklearn/linear_model/_sag.py:330: ConvergenceWarning: The max_iter was reached which means the coef_ did not converge\n",
      "  \"the coef_ did not converge\", ConvergenceWarning)\n"
     ]
    },
    {
     "name": "stdout",
     "output_type": "stream",
     "text": [
      "Label: [1], Cost: [1]\n",
      "|   0   |    5 (4.76% of all)    |         22        |  0   |   0.919 ± 0.09  | 0.910 ± 0.12 |  0.081 ± 0.09 |"
     ]
    },
    {
     "name": "stderr",
     "output_type": "stream",
     "text": [
      "/srv/conda/envs/notebook/lib/python3.7/site-packages/sklearn/linear_model/_sag.py:330: ConvergenceWarning: The max_iter was reached which means the coef_ did not converge\n",
      "  \"the coef_ did not converge\", ConvergenceWarning)\n"
     ]
    },
    {
     "name": "stdout",
     "output_type": "stream",
     "text": [
      "Label: [2], Cost: [1]\n",
      "|   0   |    5 (4.76% of all)    |         23        |  0   |   0.922 ± 0.09  | 0.913 ± 0.12 |  0.078 ± 0.09 |"
     ]
    },
    {
     "name": "stderr",
     "output_type": "stream",
     "text": [
      "/srv/conda/envs/notebook/lib/python3.7/site-packages/sklearn/linear_model/_sag.py:330: ConvergenceWarning: The max_iter was reached which means the coef_ did not converge\n",
      "  \"the coef_ did not converge\", ConvergenceWarning)\n"
     ]
    },
    {
     "name": "stdout",
     "output_type": "stream",
     "text": [
      "Label: [1], Cost: [1]\n",
      "|   0   |    5 (4.76% of all)    |         24        |  0   |   0.924 ± 0.09  | 0.916 ± 0.11 |  0.076 ± 0.09 |"
     ]
    },
    {
     "name": "stderr",
     "output_type": "stream",
     "text": [
      "/srv/conda/envs/notebook/lib/python3.7/site-packages/sklearn/linear_model/_sag.py:330: ConvergenceWarning: The max_iter was reached which means the coef_ did not converge\n",
      "  \"the coef_ did not converge\", ConvergenceWarning)\n"
     ]
    },
    {
     "name": "stdout",
     "output_type": "stream",
     "text": [
      "Label: [0], Cost: [1]\n",
      "|   0   |    5 (4.76% of all)    |         25        |  0   |   0.926 ± 0.09  | 0.918 ± 0.11 |  0.074 ± 0.09 |"
     ]
    },
    {
     "name": "stderr",
     "output_type": "stream",
     "text": [
      "/srv/conda/envs/notebook/lib/python3.7/site-packages/sklearn/linear_model/_sag.py:330: ConvergenceWarning: The max_iter was reached which means the coef_ did not converge\n",
      "  \"the coef_ did not converge\", ConvergenceWarning)\n"
     ]
    },
    {
     "name": "stdout",
     "output_type": "stream",
     "text": [
      "Label: [2], Cost: [1]\n",
      "|   0   |    5 (4.76% of all)    |         26        |  0   |   0.928 ± 0.08  | 0.920 ± 0.11 |  0.072 ± 0.08 |"
     ]
    },
    {
     "name": "stderr",
     "output_type": "stream",
     "text": [
      "/srv/conda/envs/notebook/lib/python3.7/site-packages/sklearn/linear_model/_sag.py:330: ConvergenceWarning: The max_iter was reached which means the coef_ did not converge\n",
      "  \"the coef_ did not converge\", ConvergenceWarning)\n"
     ]
    },
    {
     "name": "stdout",
     "output_type": "stream",
     "text": [
      "Label: [1], Cost: [1]\n",
      "|   0   |    5 (4.76% of all)    |         27        |  0   |   0.930 ± 0.08  | 0.923 ± 0.11 |  0.070 ± 0.08 |"
     ]
    },
    {
     "name": "stderr",
     "output_type": "stream",
     "text": [
      "/srv/conda/envs/notebook/lib/python3.7/site-packages/sklearn/linear_model/_sag.py:330: ConvergenceWarning: The max_iter was reached which means the coef_ did not converge\n",
      "  \"the coef_ did not converge\", ConvergenceWarning)\n"
     ]
    },
    {
     "name": "stdout",
     "output_type": "stream",
     "text": [
      "Label: [2], Cost: [1]\n",
      "|   0   |    5 (4.76% of all)    |         28        |  0   |   0.932 ± 0.08  | 0.925 ± 0.11 |  0.068 ± 0.08 |"
     ]
    },
    {
     "name": "stderr",
     "output_type": "stream",
     "text": [
      "/srv/conda/envs/notebook/lib/python3.7/site-packages/sklearn/linear_model/_sag.py:330: ConvergenceWarning: The max_iter was reached which means the coef_ did not converge\n",
      "  \"the coef_ did not converge\", ConvergenceWarning)\n"
     ]
    },
    {
     "name": "stdout",
     "output_type": "stream",
     "text": [
      "Label: [1], Cost: [1]\n",
      "|   0   |    5 (4.76% of all)    |         29        |  0   |   0.933 ± 0.08  | 0.926 ± 0.11 |  0.067 ± 0.08 |"
     ]
    },
    {
     "name": "stderr",
     "output_type": "stream",
     "text": [
      "/srv/conda/envs/notebook/lib/python3.7/site-packages/sklearn/linear_model/_sag.py:330: ConvergenceWarning: The max_iter was reached which means the coef_ did not converge\n",
      "  \"the coef_ did not converge\", ConvergenceWarning)\n"
     ]
    },
    {
     "name": "stdout",
     "output_type": "stream",
     "text": [
      "Label: [1], Cost: [1]\n",
      "|   0   |    5 (4.76% of all)    |         30        |  0   |   0.935 ± 0.08  | 0.928 ± 0.10 |  0.065 ± 0.08 |"
     ]
    },
    {
     "name": "stderr",
     "output_type": "stream",
     "text": [
      "/srv/conda/envs/notebook/lib/python3.7/site-packages/sklearn/linear_model/_sag.py:330: ConvergenceWarning: The max_iter was reached which means the coef_ did not converge\n",
      "  \"the coef_ did not converge\", ConvergenceWarning)\n"
     ]
    },
    {
     "name": "stdout",
     "output_type": "stream",
     "text": [
      "Label: [2], Cost: [1]\n",
      "|   0   |    5 (4.76% of all)    |         31        |  0   |   0.937 ± 0.08  | 0.930 ± 0.10 |  0.063 ± 0.08 |"
     ]
    },
    {
     "name": "stderr",
     "output_type": "stream",
     "text": [
      "/srv/conda/envs/notebook/lib/python3.7/site-packages/sklearn/linear_model/_sag.py:330: ConvergenceWarning: The max_iter was reached which means the coef_ did not converge\n",
      "  \"the coef_ did not converge\", ConvergenceWarning)\n"
     ]
    },
    {
     "name": "stdout",
     "output_type": "stream",
     "text": [
      "Label: [1], Cost: [1]\n",
      "|   0   |    5 (4.76% of all)    |         32        |  0   |   0.938 ± 0.08  | 0.932 ± 0.10 |  0.062 ± 0.08 |"
     ]
    },
    {
     "name": "stderr",
     "output_type": "stream",
     "text": [
      "/srv/conda/envs/notebook/lib/python3.7/site-packages/sklearn/linear_model/_sag.py:330: ConvergenceWarning: The max_iter was reached which means the coef_ did not converge\n",
      "  \"the coef_ did not converge\", ConvergenceWarning)\n",
      "distributed.scheduler - ERROR - Couldn't gather keys {\"('getitem-7947ba86deeaeb43450d64e268f214d1', 0)\": []} state: ['waiting'] workers: []\n",
      "NoneType: None\n",
      "distributed.scheduler - ERROR - Workers don't have promised key: [], ('getitem-7947ba86deeaeb43450d64e268f214d1', 0)\n",
      "NoneType: None\n",
      "distributed.client - WARNING - Couldn't gather 1 keys, rescheduling {\"('getitem-7947ba86deeaeb43450d64e268f214d1', 0)\": []}\n"
     ]
    },
    {
     "name": "stdout",
     "output_type": "stream",
     "text": [
      "Label: [2], Cost: [1]\n",
      "|   0   |    5 (4.76% of all)    |         33        |  0   |   0.940 ± 0.08  | 0.934 ± 0.10 |  0.060 ± 0.08 |"
     ]
    },
    {
     "name": "stderr",
     "output_type": "stream",
     "text": [
      "/srv/conda/envs/notebook/lib/python3.7/site-packages/sklearn/linear_model/_sag.py:330: ConvergenceWarning: The max_iter was reached which means the coef_ did not converge\n",
      "  \"the coef_ did not converge\", ConvergenceWarning)\n",
      "distributed.scheduler - ERROR - Couldn't gather keys {\"('getitem-7947ba86deeaeb43450d64e268f214d1', 0)\": []} state: ['waiting'] workers: []\n",
      "NoneType: None\n",
      "distributed.scheduler - ERROR - Workers don't have promised key: [], ('getitem-7947ba86deeaeb43450d64e268f214d1', 0)\n",
      "NoneType: None\n",
      "distributed.client - WARNING - Couldn't gather 1 keys, rescheduling {\"('getitem-7947ba86deeaeb43450d64e268f214d1', 0)\": []}\n"
     ]
    },
    {
     "name": "stdout",
     "output_type": "stream",
     "text": [
      "Label: [0], Cost: [1]\n",
      "|   0   |    5 (4.76% of all)    |         34        |  0   |   0.941 ± 0.08  | 0.935 ± 0.10 |  0.059 ± 0.08 |"
     ]
    },
    {
     "name": "stderr",
     "output_type": "stream",
     "text": [
      "/srv/conda/envs/notebook/lib/python3.7/site-packages/sklearn/linear_model/_sag.py:330: ConvergenceWarning: The max_iter was reached which means the coef_ did not converge\n",
      "  \"the coef_ did not converge\", ConvergenceWarning)\n"
     ]
    },
    {
     "name": "stdout",
     "output_type": "stream",
     "text": [
      "Label: [1], Cost: [1]\n",
      "|   0   |    5 (4.76% of all)    |         35        |  0   |   0.942 ± 0.08  | 0.936 ± 0.10 |  0.058 ± 0.08 |"
     ]
    },
    {
     "name": "stderr",
     "output_type": "stream",
     "text": [
      "/srv/conda/envs/notebook/lib/python3.7/site-packages/sklearn/linear_model/_sag.py:330: ConvergenceWarning: The max_iter was reached which means the coef_ did not converge\n",
      "  \"the coef_ did not converge\", ConvergenceWarning)\n"
     ]
    },
    {
     "name": "stdout",
     "output_type": "stream",
     "text": [
      "Label: [2], Cost: [1]\n",
      "|   0   |    5 (4.76% of all)    |         36        |  0   |   0.943 ± 0.08  | 0.938 ± 0.10 |  0.057 ± 0.08 |"
     ]
    },
    {
     "name": "stderr",
     "output_type": "stream",
     "text": [
      "/srv/conda/envs/notebook/lib/python3.7/site-packages/sklearn/linear_model/_sag.py:330: ConvergenceWarning: The max_iter was reached which means the coef_ did not converge\n",
      "  \"the coef_ did not converge\", ConvergenceWarning)\n"
     ]
    },
    {
     "name": "stdout",
     "output_type": "stream",
     "text": [
      "Label: [2], Cost: [1]\n",
      "|   0   |    5 (4.76% of all)    |         37        |  0   |   0.944 ± 0.07  | 0.939 ± 0.10 |  0.056 ± 0.07 |"
     ]
    },
    {
     "name": "stderr",
     "output_type": "stream",
     "text": [
      "/srv/conda/envs/notebook/lib/python3.7/site-packages/sklearn/linear_model/_sag.py:330: ConvergenceWarning: The max_iter was reached which means the coef_ did not converge\n",
      "  \"the coef_ did not converge\", ConvergenceWarning)\n"
     ]
    },
    {
     "name": "stdout",
     "output_type": "stream",
     "text": [
      "Label: [1], Cost: [1]\n",
      "|   0   |    5 (4.76% of all)    |         38        |  0   |   0.945 ± 0.07  | 0.940 ± 0.10 |  0.055 ± 0.07 |"
     ]
    },
    {
     "name": "stderr",
     "output_type": "stream",
     "text": [
      "/srv/conda/envs/notebook/lib/python3.7/site-packages/sklearn/linear_model/_sag.py:330: ConvergenceWarning: The max_iter was reached which means the coef_ did not converge\n",
      "  \"the coef_ did not converge\", ConvergenceWarning)\n"
     ]
    },
    {
     "name": "stdout",
     "output_type": "stream",
     "text": [
      "Label: [0], Cost: [1]\n",
      "|   0   |    5 (4.76% of all)    |         39        |  0   |   0.946 ± 0.07  | 0.941 ± 0.09 |  0.054 ± 0.07 |"
     ]
    },
    {
     "name": "stderr",
     "output_type": "stream",
     "text": [
      "/srv/conda/envs/notebook/lib/python3.7/site-packages/sklearn/linear_model/_sag.py:330: ConvergenceWarning: The max_iter was reached which means the coef_ did not converge\n",
      "  \"the coef_ did not converge\", ConvergenceWarning)\n"
     ]
    },
    {
     "name": "stdout",
     "output_type": "stream",
     "text": [
      "Label: [2], Cost: [1]\n",
      "|   0   |    5 (4.76% of all)    |         40        |  0   |   0.947 ± 0.07  | 0.942 ± 0.09 |  0.053 ± 0.07 |"
     ]
    },
    {
     "name": "stderr",
     "output_type": "stream",
     "text": [
      "/srv/conda/envs/notebook/lib/python3.7/site-packages/sklearn/linear_model/_sag.py:330: ConvergenceWarning: The max_iter was reached which means the coef_ did not converge\n",
      "  \"the coef_ did not converge\", ConvergenceWarning)\n"
     ]
    },
    {
     "name": "stdout",
     "output_type": "stream",
     "text": [
      "Label: [1], Cost: [1]\n",
      "|   0   |    5 (4.76% of all)    |         41        |  0   |   0.947 ± 0.07  | 0.943 ± 0.09 |  0.053 ± 0.07 |"
     ]
    },
    {
     "name": "stderr",
     "output_type": "stream",
     "text": [
      "/srv/conda/envs/notebook/lib/python3.7/site-packages/sklearn/linear_model/_sag.py:330: ConvergenceWarning: The max_iter was reached which means the coef_ did not converge\n",
      "  \"the coef_ did not converge\", ConvergenceWarning)\n"
     ]
    },
    {
     "name": "stdout",
     "output_type": "stream",
     "text": [
      "Label: [1], Cost: [1]\n",
      "|   0   |    5 (4.76% of all)    |         42        |  0   |   0.948 ± 0.07  | 0.943 ± 0.09 |  0.052 ± 0.07 |"
     ]
    },
    {
     "name": "stderr",
     "output_type": "stream",
     "text": [
      "/srv/conda/envs/notebook/lib/python3.7/site-packages/sklearn/linear_model/_sag.py:330: ConvergenceWarning: The max_iter was reached which means the coef_ did not converge\n",
      "  \"the coef_ did not converge\", ConvergenceWarning)\n"
     ]
    },
    {
     "name": "stdout",
     "output_type": "stream",
     "text": [
      "Label: [0], Cost: [1]\n",
      "|   0   |    5 (4.76% of all)    |         43        |  0   |   0.949 ± 0.07  | 0.944 ± 0.09 |  0.051 ± 0.07 |"
     ]
    },
    {
     "name": "stderr",
     "output_type": "stream",
     "text": [
      "/srv/conda/envs/notebook/lib/python3.7/site-packages/sklearn/linear_model/_sag.py:330: ConvergenceWarning: The max_iter was reached which means the coef_ did not converge\n",
      "  \"the coef_ did not converge\", ConvergenceWarning)\n"
     ]
    },
    {
     "name": "stdout",
     "output_type": "stream",
     "text": [
      "Label: [2], Cost: [1]\n",
      "|   0   |    5 (4.76% of all)    |         44        |  0   |   0.949 ± 0.07  | 0.945 ± 0.09 |  0.051 ± 0.07 |"
     ]
    },
    {
     "name": "stderr",
     "output_type": "stream",
     "text": [
      "/srv/conda/envs/notebook/lib/python3.7/site-packages/sklearn/linear_model/_sag.py:330: ConvergenceWarning: The max_iter was reached which means the coef_ did not converge\n",
      "  \"the coef_ did not converge\", ConvergenceWarning)\n"
     ]
    },
    {
     "name": "stdout",
     "output_type": "stream",
     "text": [
      "Label: [2], Cost: [1]\n",
      "|   0   |    5 (4.76% of all)    |         45        |  0   |   0.950 ± 0.07  | 0.946 ± 0.09 |  0.050 ± 0.07 |"
     ]
    },
    {
     "name": "stderr",
     "output_type": "stream",
     "text": [
      "/srv/conda/envs/notebook/lib/python3.7/site-packages/sklearn/linear_model/_sag.py:330: ConvergenceWarning: The max_iter was reached which means the coef_ did not converge\n",
      "  \"the coef_ did not converge\", ConvergenceWarning)\n"
     ]
    },
    {
     "name": "stdout",
     "output_type": "stream",
     "text": [
      "Label: [2], Cost: [1]\n",
      "|   0   |    5 (4.76% of all)    |         46        |  0   |   0.951 ± 0.07  | 0.946 ± 0.09 |  0.049 ± 0.07 |"
     ]
    },
    {
     "name": "stderr",
     "output_type": "stream",
     "text": [
      "/srv/conda/envs/notebook/lib/python3.7/site-packages/sklearn/linear_model/_sag.py:330: ConvergenceWarning: The max_iter was reached which means the coef_ did not converge\n",
      "  \"the coef_ did not converge\", ConvergenceWarning)\n"
     ]
    },
    {
     "name": "stdout",
     "output_type": "stream",
     "text": [
      "Label: [1], Cost: [1]\n",
      "|   0   |    5 (4.76% of all)    |         47        |  0   |   0.951 ± 0.07  | 0.947 ± 0.09 |  0.049 ± 0.07 |"
     ]
    },
    {
     "name": "stderr",
     "output_type": "stream",
     "text": [
      "/srv/conda/envs/notebook/lib/python3.7/site-packages/sklearn/linear_model/_sag.py:330: ConvergenceWarning: The max_iter was reached which means the coef_ did not converge\n",
      "  \"the coef_ did not converge\", ConvergenceWarning)\n"
     ]
    },
    {
     "name": "stdout",
     "output_type": "stream",
     "text": [
      "Label: [0], Cost: [1]\n",
      "|   0   |    5 (4.76% of all)    |         48        |  0   |   0.952 ± 0.07  | 0.948 ± 0.09 |  0.048 ± 0.07 |"
     ]
    },
    {
     "name": "stderr",
     "output_type": "stream",
     "text": [
      "/srv/conda/envs/notebook/lib/python3.7/site-packages/sklearn/linear_model/_sag.py:330: ConvergenceWarning: The max_iter was reached which means the coef_ did not converge\n",
      "  \"the coef_ did not converge\", ConvergenceWarning)\n"
     ]
    },
    {
     "name": "stdout",
     "output_type": "stream",
     "text": [
      "Label: [1], Cost: [1]\n",
      "|   0   |    5 (4.76% of all)    |         49        |  0   |   0.952 ± 0.07  | 0.948 ± 0.09 |  0.048 ± 0.07 |"
     ]
    },
    {
     "name": "stderr",
     "output_type": "stream",
     "text": [
      "/srv/conda/envs/notebook/lib/python3.7/site-packages/sklearn/linear_model/_sag.py:330: ConvergenceWarning: The max_iter was reached which means the coef_ did not converge\n",
      "  \"the coef_ did not converge\", ConvergenceWarning)\n"
     ]
    },
    {
     "name": "stdout",
     "output_type": "stream",
     "text": [
      "Label: [2], Cost: [1]\n",
      "|   0   |    5 (4.76% of all)    |         50        |  0   |   0.953 ± 0.07  | 0.949 ± 0.08 |  0.047 ± 0.07 |CPU times: user 45 s, sys: 16.1 s, total: 1min 1s\n",
      "Wall time: 1min 1s\n"
     ]
    }
   ],
   "source": [
    "%%time\n",
    "result = experiment.evaluate(client= client, verbose=True)"
   ]
  },
  {
   "cell_type": "code",
   "execution_count": null,
   "metadata": {},
   "outputs": [],
   "source": [
    "from dpyacl.experiment import ExperimentAnalyserFactory\n",
    "\n",
    "query_analyser = ExperimentAnalyserFactory.experiment_analyser(\n",
    "            performance_metrics= [\n",
    "                metric.metric_name\n",
    "                    for metric in performance_metrics\n",
    "            ],\n",
    "            method_name=query_strategy.query_function_name,\n",
    "            method_results=result,\n",
    "            type=\"queries\"\n",
    "    )\n",
    "query_analyser.plot_learning_curves(\n",
    "    title='Active Learning experiment results')"
   ]
  }
 ],
 "metadata": {
  "kernelspec": {
   "display_name": "Python 3",
   "language": "python",
   "name": "python3"
  },
  "language_info": {
   "codemirror_mode": {
    "name": "ipython",
    "version": 3
   },
   "file_extension": ".py",
   "mimetype": "text/x-python",
   "name": "python",
   "nbconvert_exporter": "python",
   "pygments_lexer": "ipython3",
   "version": "3.7.6"
  }
 },
 "nbformat": 4,
 "nbformat_minor": 4
}