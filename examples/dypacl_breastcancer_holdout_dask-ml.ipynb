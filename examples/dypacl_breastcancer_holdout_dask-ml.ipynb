{
 "cells": [
  {
   "cell_type": "code",
   "execution_count": 1,
   "metadata": {
    "collapsed": true
   },
   "outputs": [
    {
     "name": "stdout",
     "output_type": "stream",
     "text": [
      "Collecting dpyacl\n",
      "  Downloading dpyacl-0.3.tar.gz (48 kB)\n",
      "\u001B[K     |████████████████████████████████| 48 kB 1.9 MB/s eta 0:00:011\n",
      "\u001B[?25hRequirement already satisfied: dask in /srv/conda/envs/notebook/lib/python3.7/site-packages (from dpyacl) (2.9.1)\n",
      "Requirement already satisfied: dask-ml in /srv/conda/envs/notebook/lib/python3.7/site-packages (from dpyacl) (1.4.0)\n",
      "Requirement already satisfied: numpy in /srv/conda/envs/notebook/lib/python3.7/site-packages (from dpyacl) (1.17.5)\n",
      "Requirement already satisfied: scipy in /srv/conda/envs/notebook/lib/python3.7/site-packages (from dpyacl) (1.4.1)\n",
      "Requirement already satisfied: scikit-learn in /srv/conda/envs/notebook/lib/python3.7/site-packages (from dpyacl) (0.22.2.post1)\n",
      "Requirement already satisfied: matplotlib in /srv/conda/envs/notebook/lib/python3.7/site-packages (from dpyacl) (3.2.2)\n",
      "Collecting prettytable\n",
      "  Downloading prettytable-0.7.2.tar.bz2 (21 kB)\n",
      "Requirement already satisfied: multipledispatch>=0.4.9 in /srv/conda/envs/notebook/lib/python3.7/site-packages (from dask-ml->dpyacl) (0.6.0)\n",
      "Requirement already satisfied: pandas>=0.23.4 in /srv/conda/envs/notebook/lib/python3.7/site-packages (from dask-ml->dpyacl) (0.25.3)\n",
      "Requirement already satisfied: dask-glm>=0.2.0 in /srv/conda/envs/notebook/lib/python3.7/site-packages (from dask-ml->dpyacl) (0.2.0)\n",
      "Requirement already satisfied: packaging in /srv/conda/envs/notebook/lib/python3.7/site-packages (from dask-ml->dpyacl) (20.4)\n",
      "Requirement already satisfied: distributed>=2.4.0 in /srv/conda/envs/notebook/lib/python3.7/site-packages (from dask-ml->dpyacl) (2.19.0)\n",
      "Requirement already satisfied: numba in /srv/conda/envs/notebook/lib/python3.7/site-packages (from dask-ml->dpyacl) (0.49.1)\n",
      "Requirement already satisfied: joblib>=0.11 in /srv/conda/envs/notebook/lib/python3.7/site-packages (from scikit-learn->dpyacl) (0.15.1)\n",
      "Requirement already satisfied: pyparsing!=2.0.4,!=2.1.2,!=2.1.6,>=2.0.1 in /srv/conda/envs/notebook/lib/python3.7/site-packages (from matplotlib->dpyacl) (2.4.7)\n",
      "Requirement already satisfied: kiwisolver>=1.0.1 in /srv/conda/envs/notebook/lib/python3.7/site-packages (from matplotlib->dpyacl) (1.2.0)\n",
      "Requirement already satisfied: python-dateutil>=2.1 in /srv/conda/envs/notebook/lib/python3.7/site-packages (from matplotlib->dpyacl) (2.8.1)\n",
      "Requirement already satisfied: cycler>=0.10 in /srv/conda/envs/notebook/lib/python3.7/site-packages (from matplotlib->dpyacl) (0.10.0)\n",
      "Requirement already satisfied: six in /srv/conda/envs/notebook/lib/python3.7/site-packages (from multipledispatch>=0.4.9->dask-ml->dpyacl) (1.15.0)\n",
      "Requirement already satisfied: pytz>=2017.2 in /srv/conda/envs/notebook/lib/python3.7/site-packages (from pandas>=0.23.4->dask-ml->dpyacl) (2020.1)\n",
      "Requirement already satisfied: cloudpickle>=0.2.2 in /srv/conda/envs/notebook/lib/python3.7/site-packages (from dask-glm>=0.2.0->dask-ml->dpyacl) (1.4.1)\n",
      "Requirement already satisfied: sortedcontainers!=2.0.0,!=2.0.1 in /srv/conda/envs/notebook/lib/python3.7/site-packages (from distributed>=2.4.0->dask-ml->dpyacl) (2.2.2)\n",
      "Requirement already satisfied: zict>=0.1.3 in /srv/conda/envs/notebook/lib/python3.7/site-packages (from distributed>=2.4.0->dask-ml->dpyacl) (2.0.0)\n",
      "Requirement already satisfied: toolz>=0.8.2 in /srv/conda/envs/notebook/lib/python3.7/site-packages (from distributed>=2.4.0->dask-ml->dpyacl) (0.10.0)\n",
      "Requirement already satisfied: msgpack>=0.6.0 in /srv/conda/envs/notebook/lib/python3.7/site-packages (from distributed>=2.4.0->dask-ml->dpyacl) (1.0.0)\n",
      "Requirement already satisfied: pyyaml in /srv/conda/envs/notebook/lib/python3.7/site-packages (from distributed>=2.4.0->dask-ml->dpyacl) (5.3.1)\n",
      "Requirement already satisfied: tornado>=5; python_version < \"3.8\" in /srv/conda/envs/notebook/lib/python3.7/site-packages (from distributed>=2.4.0->dask-ml->dpyacl) (5.1.1)\n",
      "Requirement already satisfied: psutil>=5.0 in /srv/conda/envs/notebook/lib/python3.7/site-packages (from distributed>=2.4.0->dask-ml->dpyacl) (5.7.0)\n",
      "Requirement already satisfied: setuptools in /srv/conda/envs/notebook/lib/python3.7/site-packages (from distributed>=2.4.0->dask-ml->dpyacl) (47.1.1.post20200529)\n",
      "Requirement already satisfied: tblib>=1.6.0 in /srv/conda/envs/notebook/lib/python3.7/site-packages (from distributed>=2.4.0->dask-ml->dpyacl) (1.6.0)\n",
      "Requirement already satisfied: click>=6.6 in /srv/conda/envs/notebook/lib/python3.7/site-packages (from distributed>=2.4.0->dask-ml->dpyacl) (7.1.2)\n",
      "Requirement already satisfied: llvmlite<=0.33.0.dev0,>=0.31.0.dev0 in /srv/conda/envs/notebook/lib/python3.7/site-packages (from numba->dask-ml->dpyacl) (0.32.1)\n",
      "Requirement already satisfied: heapdict in /srv/conda/envs/notebook/lib/python3.7/site-packages (from zict>=0.1.3->distributed>=2.4.0->dask-ml->dpyacl) (1.0.1)\n",
      "Building wheels for collected packages: dpyacl, prettytable\n",
      "  Building wheel for dpyacl (setup.py) ... \u001B[?25ldone\n",
      "\u001B[?25h  Created wheel for dpyacl: filename=dpyacl-0.3-py3-none-any.whl size=53903 sha256=cf1778dfc9dcf6a82f4857d00444e6a01a82a5f1ffaab847720696478dea3211\n",
      "  Stored in directory: /home/jovyan/.cache/pip/wheels/84/78/bc/90f1c59739cc83e011143a4436d31b57dbfef0b140ad84355a\n",
      "  Building wheel for prettytable (setup.py) ... \u001B[?25ldone\n",
      "\u001B[?25h  Created wheel for prettytable: filename=prettytable-0.7.2-py3-none-any.whl size=13698 sha256=fb2d7a43c37884ed11a35ea6181cb0c77a0ac48a749ecd9d5d5e840226213449\n",
      "  Stored in directory: /home/jovyan/.cache/pip/wheels/8c/76/0b/eb9eb3da7e2335e3577e3f96a0ae9f74f206e26457bd1a2bc8\n",
      "Successfully built dpyacl prettytable\n",
      "Installing collected packages: prettytable, dpyacl\n",
      "Successfully installed dpyacl-0.3 prettytable-0.7.2\n",
      "Note: you may need to restart the kernel to use updated packages.\n"
     ]
    }
   ],
   "source": [
    "# pip install dpyacl"
   ]
  },
  {
   "cell_type": "code",
   "execution_count": 1,
   "metadata": {},
   "outputs": [],
   "source": [
    "from dask.distributed import Client\n",
    "\n",
    "# remote Distributed Mode\n",
    "client = Client('tcp://192.168.2.100:8786')\n",
    "\n",
    "# Local Multi-thread\n",
    "# client = Client(processes=False, threads_per_worker=2,\n",
    "#                 n_workers=2, memory_limit='2GB')\n",
    "\n",
    "# Local Multi-Process\n",
    "# client = Client(processes=True, threads_per_worker=2,\n",
    "#                 n_workers=2, memory_limit='2GB')\n",
    "\n",
    "# Local Single-Thread\n",
    "# client = None"
   ]
  },
  {
   "cell_type": "code",
   "execution_count": 2,
   "metadata": {},
   "outputs": [],
   "source": [
    "from sklearn.datasets import load_breast_cancer\n",
    "\n",
    "X,y=load_breast_cancer(return_X_y=True) #import the dataset"
   ]
  },
  {
   "cell_type": "code",
   "execution_count": 5,
   "metadata": {},
   "outputs": [
    {
     "data": {
      "text/plain": "array([[1.799e+01, 1.038e+01, 1.228e+02, ..., 2.654e-01, 4.601e-01,\n        1.189e-01],\n       [2.057e+01, 1.777e+01, 1.329e+02, ..., 1.860e-01, 2.750e-01,\n        8.902e-02],\n       [1.969e+01, 2.125e+01, 1.300e+02, ..., 2.430e-01, 3.613e-01,\n        8.758e-02],\n       ...,\n       [1.660e+01, 2.808e+01, 1.083e+02, ..., 1.418e-01, 2.218e-01,\n        7.820e-02],\n       [2.060e+01, 2.933e+01, 1.401e+02, ..., 2.650e-01, 4.087e-01,\n        1.240e-01],\n       [7.760e+00, 2.454e+01, 4.792e+01, ..., 0.000e+00, 2.871e-01,\n        7.039e-02]])"
     },
     "execution_count": 5,
     "metadata": {},
     "output_type": "execute_result"
    }
   ],
   "source": [
    "X"
   ]
  },
  {
   "cell_type": "code",
   "execution_count": 4,
   "metadata": {},
   "outputs": [],
   "source": [
    "from dask_ml.naive_bayes import GaussianNB\n",
    "from dpyacl.core.stop_criteria import MaxIteration\n",
    "from dpyacl.strategies.single_label import QueryEntropySampling\n",
    "from dpyacl.metrics.evaluation import Accuracy, F1, HammingLoss\n",
    "from dpyacl.oracle import SimulatedOracle\n",
    "\n",
    "ml_technique = GaussianNB()\n",
    "stopping_criteria = MaxIteration(5)\n",
    "query_strategy = QueryEntropySampling()\n",
    "performance_metrics = [Accuracy(),  F1(average='weighted'), HammingLoss()]\n",
    "oracle = SimulatedOracle(labels=y)"
   ]
  },
  {
   "cell_type": "code",
   "execution_count": 5,
   "outputs": [],
   "source": [
    "from dpyacl.experiment.context import HoldOutExperiment\n",
    "from dpyacl.scenario import PoolBasedSamplingScenario\n",
    "\n",
    "# init the ALExperiment\n",
    "experiment = HoldOutExperiment(\n",
    "    client=None,\n",
    "    X=X,\n",
    "    Y=y,\n",
    "    scenario_type=PoolBasedSamplingScenario,\n",
    "    ml_technique=ml_technique,\n",
    "    performance_metrics=performance_metrics,\n",
    "    query_strategy=query_strategy,\n",
    "    oracle=oracle,\n",
    "    stopping_criteria=stopping_criteria,\n",
    "    self_partition=True,\n",
    "    test_ratio=0.3,\n",
    "    initial_label_rate=0.05,\n",
    "    all_class=True,\n",
    "    rebalance=True\n",
    ")"
   ],
   "metadata": {
    "collapsed": false,
    "pycharm": {
     "name": "#%%\n"
    }
   }
  },
  {
   "cell_type": "code",
   "execution_count": 6,
   "metadata": {},
   "outputs": [
    {
     "name": "stdout",
     "output_type": "stream",
     "text": [
      "Label: [0], Cost: [1]\n",
      "\n",
      "| round | initially labeled data | number of queries | cost | accuracy_score: |  f1_score:   | hamming_loss: |\n",
      "|   0   |    20 (5.03% of all)   |         1         |  0   |   0.936 ± 0.00  | 0.936 ± 0.00 |  0.064 ± 0.00 |Label: [0], Cost: [1]\n",
      "|   0   |    20 (5.03% of all)   |         2         |  0   |   0.939 ± 0.00  | 0.939 ± 0.00 |  0.061 ± 0.00 |Label: [0], Cost: [1]\n",
      "|   0   |    20 (5.03% of all)   |         3         |  0   |   0.938 ± 0.00  | 0.938 ± 0.00 |  0.062 ± 0.00 |Label: [0], Cost: [1]\n",
      "|   0   |    20 (5.03% of all)   |         4         |  0   |   0.937 ± 0.00  | 0.937 ± 0.00 |  0.063 ± 0.00 |Label: [0], Cost: [1]\n",
      "|   0   |    20 (5.03% of all)   |         5         |  0   |   0.935 ± 0.01  | 0.934 ± 0.01 |  0.065 ± 0.01 |41.951369524002075\n",
      "CPU times: user 13 s, sys: 596 ms, total: 13.6 s\n",
      "Wall time: 42 s\n"
     ]
    }
   ],
   "source": [
    "%%time\n",
    "import time\n",
    "\n",
    "start_time = time.time()\n",
    "result = experiment.evaluate(client=client,  verbose=True)\n",
    "end_time = time.time() - start_time\n",
    "print(end_time)"
   ]
  },
  {
   "cell_type": "code",
   "execution_count": 7,
   "metadata": {},
   "outputs": [
    {
     "data": {
      "text/plain": "<Figure size 432x288 with 1 Axes>",
      "image/png": "[encoded data removed]"
     },
     "metadata": {
      "needs_background": "light"
     },
     "output_type": "display_data"
    }
   ],
   "source": [
    "from dpyacl.experiment import ExperimentAnalyserFactory\n",
    "\n",
    "query_analyser = ExperimentAnalyserFactory.experiment_analyser(\n",
    "                    performance_metrics=[metric.metric_name for metric in performance_metrics],\n",
    "                    method_name=query_strategy.query_function_name,\n",
    "                    method_results=result,\n",
    "                    type=\"queries\"\n",
    "                )\n",
    "# get a brief description of the experiment\n",
    "query_analyser.plot_learning_curves(title='Active Learning experiment results')"
   ]
  }
 ],
 "metadata": {
  "kernelspec": {
   "display_name": "Python 3",
   "language": "python",
   "name": "python3"
  },
  "language_info": {
   "codemirror_mode": {
    "name": "ipython",
    "version": 3
   },
   "file_extension": ".py",
   "mimetype": "text/x-python",
   "name": "python",
   "nbconvert_exporter": "python",
   "pygments_lexer": "ipython3",
   "version": "3.7.6"
  }
 },
 "nbformat": 4,
 "nbformat_minor": 4
}