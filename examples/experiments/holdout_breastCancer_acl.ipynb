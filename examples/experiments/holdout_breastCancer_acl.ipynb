{
 "cells": [
  {
   "cell_type": "code",
   "execution_count": 1,
   "metadata": {},
   "outputs": [],
   "source": [
    "\n",
    "import time\n",
    "\n",
    "from sklearn.datasets import load_breast_cancer\n",
    "from sklearn.linear_model import LogisticRegression\n",
    "\n",
    "from dpyacl.core.stop_criteria import MaxIteration\n",
    "from dpyacl.experiment import ExperimentAnalyserFactory\n",
    "from dpyacl.experiment.context import HoldOutExperiment\n",
    "from dpyacl.metrics import Accuracy\n",
    "from dpyacl.metrics.evaluation import F1, HammingLoss\n",
    "from dpyacl.oracle import SimulatedOracle\n",
    "from dpyacl.scenario.scenario import PoolBasedSamplingScenario\n",
    "from dpyacl.strategies.single_label import QueryMarginSampling\n"
   ]
  },
  {
   "cell_type": "code",
   "execution_count": 2,
   "metadata": {},
   "outputs": [
    {
     "data": {
      "text/plain": "<Client: 'tcp://192.168.2.100:8786' processes=6 threads=12, memory=18.00 GB>",
      "text/html": "<table style=\"border: 2px solid white;\">\n<tr>\n<td style=\"vertical-align: top; border: 0px solid white\">\n<h3 style=\"text-align: left;\">Client</h3>\n<ul style=\"text-align: left; list-style: none; margin: 0; padding: 0;\">\n  <li><b>Scheduler: </b>tcp://192.168.2.100:8786</li>\n  <li><b>Dashboard: </b><a href='http://192.168.2.100:8787/status' target='_blank'>http://192.168.2.100:8787/status</a></li>\n</ul>\n</td>\n<td style=\"vertical-align: top; border: 0px solid white\">\n<h3 style=\"text-align: left;\">Cluster</h3>\n<ul style=\"text-align: left; list-style:none; margin: 0; padding: 0;\">\n  <li><b>Workers: </b>6</li>\n  <li><b>Cores: </b>12</li>\n  <li><b>Memory: </b>18.00 GB</li>\n</ul>\n</td>\n</tr>\n</table>"
     },
     "execution_count": 2,
     "metadata": {},
     "output_type": "execute_result"
    }
   ],
   "source": [
    "\n",
    "from dask.distributed import Client\n",
    "client = Client('tcp://192.168.2.100:8786')\n",
    "client\n"
   ]
  },
  {
   "cell_type": "code",
   "execution_count": 12,
   "metadata": {},
   "outputs": [
    {
     "name": "stdout",
     "output_type": "stream",
     "text": [
      "Label: [1], Cost: [1]\n",
      "\n",
      "| round | initially labeled data | number of queries | cost | accuracy_score: |  f1_score:   | hamming_loss: |\n",
      "|   0   |    20 (5.03% of all)   |         1         |  0   |   0.848 ± 0.00  | 0.849 ± 0.00 |  0.152 ± 0.00 |Label: [1], Cost: [1]\n",
      "|   0   |    20 (5.03% of all)   |         2         |  0   |   0.868 ± 0.02  | 0.869 ± 0.02 |  0.132 ± 0.02 |Label: [1], Cost: [1]\n",
      "|   0   |    20 (5.03% of all)   |         3         |  0   |   0.879 ± 0.02  | 0.880 ± 0.02 |  0.121 ± 0.02 |Label: [1], Cost: [1]\n",
      "|   0   |    20 (5.03% of all)   |         4         |  0   |   0.886 ± 0.02  | 0.886 ± 0.02 |  0.114 ± 0.02 |Label: [0], Cost: [1]\n",
      "|   0   |    20 (5.03% of all)   |         5         |  0   |   0.892 ± 0.02  | 0.892 ± 0.02 |  0.108 ± 0.02 |Label: [1], Cost: [1]\n",
      "|   0   |    20 (5.03% of all)   |         6         |  0   |   0.895 ± 0.02  | 0.894 ± 0.02 |  0.105 ± 0.02 |Label: [0], Cost: [1]\n",
      "|   0   |    20 (5.03% of all)   |         7         |  0   |   0.897 ± 0.02  | 0.897 ± 0.02 |  0.103 ± 0.02 |Label: [0], Cost: [1]\n",
      "|   0   |    20 (5.03% of all)   |         8         |  0   |   0.901 ± 0.02  | 0.900 ± 0.02 |  0.099 ± 0.02 |Label: [1], Cost: [1]\n",
      "|   0   |    20 (5.03% of all)   |         9         |  0   |   0.899 ± 0.02  | 0.899 ± 0.02 |  0.101 ± 0.02 |Label: [1], Cost: [1]\n",
      "|   0   |    20 (5.03% of all)   |         10        |  0   |   0.900 ± 0.02  | 0.900 ± 0.02 |  0.100 ± 0.02 |Label: [1], Cost: [1]\n",
      "|   0   |    20 (5.03% of all)   |         11        |  0   |   0.902 ± 0.02  | 0.901 ± 0.02 |  0.098 ± 0.02 |Label: [1], Cost: [1]\n",
      "|   0   |    20 (5.03% of all)   |         12        |  0   |   0.903 ± 0.02  | 0.902 ± 0.02 |  0.097 ± 0.02 |Label: [0], Cost: [1]\n",
      "|   0   |    20 (5.03% of all)   |         13        |  0   |   0.903 ± 0.02  | 0.902 ± 0.02 |  0.097 ± 0.02 |Label: [1], Cost: [1]\n",
      "|   0   |    20 (5.03% of all)   |         14        |  0   |   0.904 ± 0.02  | 0.903 ± 0.02 |  0.096 ± 0.02 |Label: [1], Cost: [1]\n",
      "|   0   |    20 (5.03% of all)   |         15        |  0   |   0.904 ± 0.02  | 0.903 ± 0.02 |  0.096 ± 0.02 |Label: [1], Cost: [1]\n",
      "|   0   |    20 (5.03% of all)   |         16        |  0   |   0.904 ± 0.02  | 0.903 ± 0.02 |  0.096 ± 0.02 |Label: [1], Cost: [1]\n",
      "|   0   |    20 (5.03% of all)   |         17        |  0   |   0.904 ± 0.02  | 0.903 ± 0.02 |  0.096 ± 0.02 |Label: [0], Cost: [1]\n",
      "|   0   |    20 (5.03% of all)   |         18        |  0   |   0.904 ± 0.02  | 0.903 ± 0.02 |  0.096 ± 0.02 |Label: [1], Cost: [1]\n",
      "|   0   |    20 (5.03% of all)   |         19        |  0   |   0.903 ± 0.02  | 0.902 ± 0.02 |  0.097 ± 0.02 |Label: [0], Cost: [1]\n",
      "|   0   |    20 (5.03% of all)   |         20        |  0   |   0.903 ± 0.02  | 0.902 ± 0.02 |  0.097 ± 0.02 |Label: [1], Cost: [1]\n",
      "|   0   |    20 (5.03% of all)   |         21        |  0   |   0.903 ± 0.02  | 0.902 ± 0.01 |  0.097 ± 0.02 |Label: [1], Cost: [1]\n",
      "|   0   |    20 (5.03% of all)   |         22        |  0   |   0.903 ± 0.01  | 0.902 ± 0.01 |  0.097 ± 0.01 |Label: [1], Cost: [1]\n",
      "|   0   |    20 (5.03% of all)   |         23        |  0   |   0.903 ± 0.01  | 0.902 ± 0.01 |  0.097 ± 0.01 |Label: [0], Cost: [1]\n",
      "|   0   |    20 (5.03% of all)   |         24        |  0   |   0.903 ± 0.01  | 0.901 ± 0.01 |  0.097 ± 0.01 |Label: [0], Cost: [1]\n",
      "|   0   |    20 (5.03% of all)   |         25        |  0   |   0.903 ± 0.01  | 0.901 ± 0.01 |  0.097 ± 0.01 |"
     ]
    }
   ],
   "source": [
    "iterations = []\n",
    "for i in range (0,1) :\n",
    "    X,y=load_breast_cancer(return_X_y=True) #import the dataset\n",
    "\n",
    "    ml_technique = LogisticRegression(solver='sag')\n",
    "    stopping_criteria = MaxIteration(25)\n",
    "    query_strategy = QueryMarginSampling()\n",
    "    performance_metrics = [Accuracy(),  F1(average='weighted'), HammingLoss()]\n",
    "\n",
    "    # init the ALExperiment\n",
    "    experiment = HoldOutExperiment(\n",
    "        client,\n",
    "        X,\n",
    "        y,\n",
    "        scenario_type=PoolBasedSamplingScenario,\n",
    "        ml_technique=ml_technique,\n",
    "        performance_metrics=performance_metrics,\n",
    "        query_strategy=query_strategy,\n",
    "        oracle=SimulatedOracle(labels=y),\n",
    "        stopping_criteria=stopping_criteria,\n",
    "        self_partition=True,\n",
    "        test_ratio=0.3,\n",
    "        initial_label_rate=0.05,\n",
    "        all_class=False,\n",
    "        rebalance=True,\n",
    "        batch_size=1\n",
    "    )\n",
    "\n",
    "    # experiment = CrossValidationExperiment(\n",
    "    #     client,\n",
    "    #     X,\n",
    "    #     y,\n",
    "    #     scenario_type=PoolBasedSamplingScenario,\n",
    "    #     ml_technique=ml_technique,\n",
    "    #     performance_metrics=performance_metrics,\n",
    "    #     query_strategy=query_strategy,\n",
    "    #     oracle=SimulatedOracle(labels=y),\n",
    "    #     stopping_criteria=stopping_criteria,\n",
    "    #     self_partition=True,\n",
    "    #     test_ratio=0.3,\n",
    "    #     initial_label_rate=0.05,\n",
    "    #     all_class=False,\n",
    "    #     rebalance=True\n",
    "    # )\n",
    "\n",
    "    start_time = time.time()\n",
    "    result = experiment.evaluate(client=client, multithread= True, verbose=True)\n",
    "    end_time = time.time() - start_time\n",
    "    iterations.append(end_time)\n"
   ]
  },
  {
   "cell_type": "code",
   "execution_count": 13,
   "metadata": {},
   "outputs": [
    {
     "name": "stdout",
     "output_type": "stream",
     "text": [
      "[33.71197462081909]\n"
     ]
    },
    {
     "data": {
      "text/plain": "<Figure size 432x288 with 1 Axes>",
      "image/png": "[encoded data removed]"
     },
     "metadata": {
      "needs_background": "light"
     },
     "output_type": "display_data"
    }
   ],
   "source": [
    "print(iterations)\n",
    "\n",
    "query_analyser = ExperimentAnalyserFactory.experiment_analyser(\n",
    "                    performance_metrics=[metric.metric_name for metric in performance_metrics],\n",
    "                    method_name=query_strategy.query_function_name,\n",
    "                    method_results=result,\n",
    "                    type=\"queries\"\n",
    "                )\n",
    "# get a brief description of the experiment\n",
    "query_analyser.plot_learning_curves(title='Active Learning experiment results')"
   ]
  }
 ],
 "metadata": {
  "kernelspec": {
   "display_name": "Python 3",
   "language": "python",
   "name": "python3"
  },
  "language_info": {
   "codemirror_mode": {
    "name": "ipython",
    "version": 3
   },
   "file_extension": ".py",
   "mimetype": "text/x-python",
   "name": "python",
   "nbconvert_exporter": "python",
   "pygments_lexer": "ipython3",
   "version": "3.8.3"
  }
 },
 "nbformat": 4,
 "nbformat_minor": 4
}