{
 "cells": [
  {
   "cell_type": "code",
   "execution_count": 1,
   "metadata": {},
   "outputs": [],
   "source": [
    "import matplotlib.pyplot as plt\n",
    "\n",
    "import time\n",
    "import os\n",
    "import dask\n",
    "import dask.dataframe as dd\n",
    "import dask.array as da\n",
    "from distributed.utils import format_bytes\n",
    "\n",
    "import seaborn as sns\n",
    "from sklearn.datasets import load_breast_cancer\n",
    "from sklearn.linear_model import LogisticRegression\n",
    "from sklearn.metrics import accuracy_score, f1_score, hamming_loss, precision_score, recall_score\n",
    "\n",
    "from dpyacl.strategies.single_label import QueryMarginSampling\n",
    "from dpyacl.core.stop_criteria import MaxIteration\n",
    "from dpyacl.experiment import ExperimentAnalyserFactory\n",
    "from dpyacl.experiment.context import HoldOutExperiment\n",
    "from dpyacl.experiment.context import CrossValidationExperiment\n",
    "from dpyacl.metrics import Accuracy\n",
    "from dpyacl.metrics.evaluation import F1, Precision, Recall, HammingLoss\n",
    "from dpyacl.oracle import SimulatedOracleQueryIndex\n",
    "from dpyacl.scenario.scenario import PoolBasedSamplingScenario\n",
    "from dpyacl.core.misc import split\n"
   ]
  },
  {
   "cell_type": "code",
   "execution_count": 2,
   "metadata": {},
   "outputs": [
    {
     "data": {
      "text/plain": "<Client: 'tcp://192.168.2.100:8786' processes=5 threads=10, memory=15.00 GB>",
      "text/html": "<table style=\"border: 2px solid white;\">\n<tr>\n<td style=\"vertical-align: top; border: 0px solid white\">\n<h3 style=\"text-align: left;\">Client</h3>\n<ul style=\"text-align: left; list-style: none; margin: 0; padding: 0;\">\n  <li><b>Scheduler: </b>tcp://192.168.2.100:8786</li>\n  <li><b>Dashboard: </b><a href='http://192.168.2.100:8787/status' target='_blank'>http://192.168.2.100:8787/status</a></li>\n</ul>\n</td>\n<td style=\"vertical-align: top; border: 0px solid white\">\n<h3 style=\"text-align: left;\">Cluster</h3>\n<ul style=\"text-align: left; list-style:none; margin: 0; padding: 0;\">\n  <li><b>Workers: </b>5</li>\n  <li><b>Cores: </b>10</li>\n  <li><b>Memory: </b>15.00 GB</li>\n</ul>\n</td>\n</tr>\n</table>"
     },
     "execution_count": 2,
     "metadata": {},
     "output_type": "execute_result"
    }
   ],
   "source": [
    "\n",
    "from dask.distributed import Client\n",
    "client = Client('tcp://192.168.2.100:8786')\n",
    "client"
   ]
  },
  {
   "cell_type": "code",
   "execution_count": 4,
   "metadata": {},
   "outputs": [
    {
     "data": {
      "text/plain": "'136.56 kB'"
     },
     "execution_count": 4,
     "metadata": {},
     "output_type": "execute_result"
    }
   ],
   "source": [
    "data=load_breast_cancer() #import the dataset\n",
    "X = da.from_array(data.data, chunks=len(data.data)// 50)\n",
    "y = da.from_array(data.target, chunks=len(data.target)// 50)\n",
    "\n",
    "\n",
    "from distributed.utils import format_bytes\n",
    "format_bytes(X.nbytes)"
   ]
  },
  {
   "cell_type": "code",
   "execution_count": 4,
   "metadata": {},
   "outputs": [],
   "source": [
    "iterations = []\n",
    "for i in range (0,1) :\n",
    "    X,y=load_breast_cancer(return_X_y=True) #import the dataset\n",
    "\n",
    "    # data=load_breast_cancer()\n",
    "    # X = da.from_array(data.data, chunks=len(X)// 50).persist()\n",
    "    # y = da.from_array(data.target, chunks=len(y)// 50).persist()\n",
    "    # client.rebalance(X)\n",
    "    # client.rebalance(y)\n",
    "\n",
    "    ml_technique = LogisticRegression(solver='sag')\n",
    "    stopping_criteria = MaxIteration(25)\n",
    "    query_strategy = QueryMarginSampling()\n",
    "    performance_metrics = [Accuracy(),  F1(average='weighted'), HammingLoss()]\n",
    "\n",
    "    # # init the ALExperiment\n",
    "    # experiment = HoldOutExperiment(\n",
    "    #     client,\n",
    "    #     X,\n",
    "    #     y,\n",
    "    #     scenario_type=PoolBasedSamplingScenario,\n",
    "    #     ml_technique=ml_technique,\n",
    "    #     performance_metrics=performance_metrics,\n",
    "    #     query_strategy=query_strategy,\n",
    "    #     oracle=SimulatedOracleQueryIndex(labels=y),\n",
    "    #     stopping_criteria=stopping_criteria,\n",
    "    #     self_partition=True,\n",
    "    #     test_ratio=0.3,\n",
    "    #     initial_label_rate=0.05,\n",
    "    #     all_class=False,\n",
    "    #     rebalance=True\n",
    "    # )\n",
    "\n",
    "    experiment = CrossValidationExperiment(\n",
    "        client,\n",
    "        X,\n",
    "        y,\n",
    "        scenario_type=PoolBasedSamplingScenario,\n",
    "        ml_technique=ml_technique,\n",
    "        performance_metrics=performance_metrics,\n",
    "        query_strategy=query_strategy,\n",
    "        oracle=SimulatedOracleQueryIndex(labels=y),\n",
    "        stopping_criteria=stopping_criteria,\n",
    "        self_partition=True,\n",
    "        test_ratio=0.3,\n",
    "        initial_label_rate=0.05,\n",
    "        all_class=False,\n",
    "        rebalance=True\n",
    "    )\n",
    "\n",
    "    start_time = time.time()\n",
    "    result = experiment.evaluate(client=client, multithread= True, verbose=True)\n",
    "    end_time = time.time() - start_time\n",
    "    iterations.append(end_time)\n"
   ]
  },
  {
   "cell_type": "code",
   "execution_count": 7,
   "metadata": {},
   "outputs": [
    {
     "data": {
      "text/plain": "<Figure size 432x288 with 1 Axes>",
      "image/png": "[encoded data removed]"
     },
     "metadata": {
      "needs_background": "light"
     },
     "output_type": "display_data"
    }
   ],
   "source": [
    "iterations\n",
    "\n",
    "query_analyser = ExperimentAnalyserFactory.experiment_analyser(\n",
    "                    performance_metrics=[metric.metric_name for metric in performance_metrics],\n",
    "                    method_name=query_strategy.query_function_name,\n",
    "                    method_results=result,\n",
    "                    type=\"queries\"\n",
    "                )\n",
    "# get a brief description of the experiment\n",
    "query_analyser.plot_learning_curves(title='Active Learning experiment results')"
   ]
  }
 ],
 "metadata": {
  "kernelspec": {
   "display_name": "Python 3",
   "language": "python",
   "name": "python3"
  },
  "language_info": {
   "codemirror_mode": {
    "name": "ipython",
    "version": 3
   },
   "file_extension": ".py",
   "mimetype": "text/x-python",
   "name": "python",
   "nbconvert_exporter": "python",
   "pygments_lexer": "ipython3",
   "version": "3.8.3"
  }
 },
 "nbformat": 4,
 "nbformat_minor": 4
}